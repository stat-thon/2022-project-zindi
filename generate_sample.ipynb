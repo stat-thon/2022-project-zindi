{
 "cells": [
  {
   "cell_type": "code",
   "execution_count": 1,
   "metadata": {},
   "outputs": [
    {
     "data": {
      "text/html": [
       "<div>\n",
       "<style scoped>\n",
       "    .dataframe tbody tr th:only-of-type {\n",
       "        vertical-align: middle;\n",
       "    }\n",
       "\n",
       "    .dataframe tbody tr th {\n",
       "        vertical-align: top;\n",
       "    }\n",
       "\n",
       "    .dataframe thead th {\n",
       "        text-align: right;\n",
       "    }\n",
       "</style>\n",
       "<table border=\"1\" class=\"dataframe\">\n",
       "  <thead>\n",
       "    <tr style=\"text-align: right;\">\n",
       "      <th></th>\n",
       "      <th>Image_id</th>\n",
       "      <th>Label</th>\n",
       "    </tr>\n",
       "  </thead>\n",
       "  <tbody>\n",
       "    <tr>\n",
       "      <th>0</th>\n",
       "      <td>id_02amazy34fgh2.jpg</td>\n",
       "      <td>1</td>\n",
       "    </tr>\n",
       "    <tr>\n",
       "      <th>1</th>\n",
       "      <td>id_02mh3w48pmyc9.jpg</td>\n",
       "      <td>0</td>\n",
       "    </tr>\n",
       "    <tr>\n",
       "      <th>2</th>\n",
       "      <td>id_02rpb463h9d3w.jpg</td>\n",
       "      <td>0</td>\n",
       "    </tr>\n",
       "    <tr>\n",
       "      <th>3</th>\n",
       "      <td>id_02wc3jeeao8ol.jpg</td>\n",
       "      <td>1</td>\n",
       "    </tr>\n",
       "    <tr>\n",
       "      <th>4</th>\n",
       "      <td>id_03t2hapb8wz8p.jpg</td>\n",
       "      <td>1</td>\n",
       "    </tr>\n",
       "  </tbody>\n",
       "</table>\n",
       "</div>"
      ],
      "text/plain": [
       "               Image_id  Label\n",
       "0  id_02amazy34fgh2.jpg      1\n",
       "1  id_02mh3w48pmyc9.jpg      0\n",
       "2  id_02rpb463h9d3w.jpg      0\n",
       "3  id_02wc3jeeao8ol.jpg      1\n",
       "4  id_03t2hapb8wz8p.jpg      1"
      ]
     },
     "execution_count": 1,
     "metadata": {},
     "output_type": "execute_result"
    }
   ],
   "source": [
    "import pandas as pd\n",
    "import numpy as np\n",
    "\n",
    "train_df = pd.read_csv('./zindi/Train.csv')\n",
    "train_df.head()"
   ]
  },
  {
   "cell_type": "code",
   "execution_count": 18,
   "metadata": {},
   "outputs": [],
   "source": [
    "# Seed everything Code for Reproduction\n",
    "\n",
    "def seed_everything(seed: int = 20220510):\n",
    "    random.seed(seed)\n",
    "    np.random.seed(seed)\n",
    "    os.environ[\"PYTHONHASHSEED\"] = str(seed)\n",
    "    torch.manual_seed(seed)\n",
    "    torch.cuda.manual_seed(seed)  # type: ignore\n",
    "    torch.backends.cudnn.deterministic = True  # type: ignore\n",
    "    torch.backends.cudnn.benchmark = True  "
   ]
  },
  {
   "cell_type": "code",
   "execution_count": 2,
   "metadata": {},
   "outputs": [
    {
     "data": {
      "text/plain": [
       "1619"
      ]
     },
     "execution_count": 2,
     "metadata": {},
     "output_type": "execute_result"
    }
   ],
   "source": [
    "len(train_df['Label'])"
   ]
  },
  {
   "cell_type": "code",
   "execution_count": 3,
   "metadata": {},
   "outputs": [
    {
     "name": "stdout",
     "output_type": "stream",
     "text": [
      "809 810\n"
     ]
    }
   ],
   "source": [
    "label1 = train_df[train_df['Label'] == 1]\n",
    "label0 = train_df[train_df['Label'] == 0]\n",
    "\n",
    "print(len(label1), len(label0))"
   ]
  },
  {
   "cell_type": "code",
   "execution_count": 4,
   "metadata": {},
   "outputs": [
    {
     "name": "stdout",
     "output_type": "stream",
     "text": [
      "243 242\n"
     ]
    }
   ],
   "source": [
    "val_label0_number = int(len(label0) * 0.3)\n",
    "val_label1_number = int(len(label1) * 0.3)\n",
    "\n",
    "print(val_label0_number, val_label1_number)"
   ]
  },
  {
   "cell_type": "code",
   "execution_count": 19,
   "metadata": {},
   "outputs": [
    {
     "name": "stdout",
     "output_type": "stream",
     "text": [
      "                  Image_id  Label\n",
      "10    id_09v3am3ppzesz.jpg      0\n",
      "676   id_f1fy2d0gs2ad3.jpg      0\n",
      "985   id_m5bqmwt8jn00b.jpg      0\n",
      "1226  id_rqu358u040d4d.jpg      0\n",
      "1070  id_o20agna9okztq.jpg      0\n",
      "                  Image_id  Label\n",
      "415   id_9iy09nobj5qfr.jpg      1\n",
      "690   id_fg90hfic5scaf.jpg      1\n",
      "1319  id_toasethei0myq.jpg      1\n",
      "498   id_bcxa93ovyp0de.jpg      1\n",
      "933   id_l157jdokx289h.jpg      1\n"
     ]
    }
   ],
   "source": [
    "# for validation set\n",
    "\n",
    "val_label0_sample = label0.sample(val_label0_number, replace = False)\n",
    "val_label1_sample = label1.sample(val_label1_number, replace = False)\n",
    "\n",
    "print(val_label0_sample.head())\n",
    "print(val_label1_sample.head())"
   ]
  },
  {
   "cell_type": "code",
   "execution_count": 20,
   "metadata": {},
   "outputs": [],
   "source": [
    "val_df = pd.concat([val_label0_sample, val_label1_sample])\n",
    "val_df = val_df.sort_index()"
   ]
  },
  {
   "cell_type": "code",
   "execution_count": 21,
   "metadata": {},
   "outputs": [
    {
     "data": {
      "text/html": [
       "<div>\n",
       "<style scoped>\n",
       "    .dataframe tbody tr th:only-of-type {\n",
       "        vertical-align: middle;\n",
       "    }\n",
       "\n",
       "    .dataframe tbody tr th {\n",
       "        vertical-align: top;\n",
       "    }\n",
       "\n",
       "    .dataframe thead th {\n",
       "        text-align: right;\n",
       "    }\n",
       "</style>\n",
       "<table border=\"1\" class=\"dataframe\">\n",
       "  <thead>\n",
       "    <tr style=\"text-align: right;\">\n",
       "      <th></th>\n",
       "      <th>Image_id</th>\n",
       "      <th>Label</th>\n",
       "    </tr>\n",
       "  </thead>\n",
       "  <tbody>\n",
       "    <tr>\n",
       "      <th>1</th>\n",
       "      <td>id_02mh3w48pmyc9.jpg</td>\n",
       "      <td>0</td>\n",
       "    </tr>\n",
       "    <tr>\n",
       "      <th>5</th>\n",
       "      <td>id_04xrxyd43rlgz.jpg</td>\n",
       "      <td>0</td>\n",
       "    </tr>\n",
       "    <tr>\n",
       "      <th>6</th>\n",
       "      <td>id_05gqx7h8y6iye.jpg</td>\n",
       "      <td>1</td>\n",
       "    </tr>\n",
       "    <tr>\n",
       "      <th>7</th>\n",
       "      <td>id_06le9g89kqth5.jpg</td>\n",
       "      <td>1</td>\n",
       "    </tr>\n",
       "    <tr>\n",
       "      <th>8</th>\n",
       "      <td>id_082w0qygo3eth.jpg</td>\n",
       "      <td>0</td>\n",
       "    </tr>\n",
       "  </tbody>\n",
       "</table>\n",
       "</div>"
      ],
      "text/plain": [
       "               Image_id  Label\n",
       "1  id_02mh3w48pmyc9.jpg      0\n",
       "5  id_04xrxyd43rlgz.jpg      0\n",
       "6  id_05gqx7h8y6iye.jpg      1\n",
       "7  id_06le9g89kqth5.jpg      1\n",
       "8  id_082w0qygo3eth.jpg      0"
      ]
     },
     "execution_count": 21,
     "metadata": {},
     "output_type": "execute_result"
    }
   ],
   "source": [
    "val_df.head()"
   ]
  },
  {
   "cell_type": "code",
   "execution_count": 22,
   "metadata": {},
   "outputs": [],
   "source": [
    "val_df.to_csv('./zindi/validation.csv')"
   ]
  },
  {
   "cell_type": "markdown",
   "metadata": {},
   "source": [
    "# For imbalanced sample"
   ]
  },
  {
   "cell_type": "code",
   "execution_count": 23,
   "metadata": {},
   "outputs": [],
   "source": [
    "imbal_1percent_number = int(0.01 * len(label1))\n",
    "imbal_5percent_number = int(0.05 * len(label1))\n",
    "imbal_10percent_number = int(0.10 * len(label1))"
   ]
  },
  {
   "cell_type": "code",
   "execution_count": 25,
   "metadata": {},
   "outputs": [],
   "source": [
    "# for imbalanced sample\n",
    "\n",
    "imbal_1percent = label1.sample(imbal_1percent_number, replace = False)\n",
    "imbal_5percent = label1.sample(imbal_5percent_number, replace = False)\n",
    "imbal_10percent = label1.sample(imbal_10percent_number, replace = False)"
   ]
  },
  {
   "cell_type": "code",
   "execution_count": 26,
   "metadata": {},
   "outputs": [
    {
     "name": "stdout",
     "output_type": "stream",
     "text": [
      "                  Image_id  Label\n",
      "695   id_fj65dz0bfm6nt.jpg      1\n",
      "646   id_eal611h60yy7i.jpg      1\n",
      "1141  id_ppykr0nhj0w99.jpg      1\n",
      "721   id_g48ln6mcu53wc.jpg      1\n",
      "735   id_ge6fwz5xy29wz.jpg      1\n",
      "                  Image_id  Label\n",
      "925   id_kw6qtxkwb06wh.jpg      1\n",
      "1529  id_y0ng35bhfb79i.jpg      1\n",
      "548   id_c7q7drtuc7oow.jpg      1\n",
      "1130  id_pg7to98xw1lxl.jpg      1\n",
      "626   id_dub314rps0oor.jpg      1\n",
      "                  Image_id  Label\n",
      "1574  id_z25btxim2egxf.jpg      1\n",
      "1247  id_s76uru1g09t7r.jpg      1\n",
      "919   id_kl493gm6a3eeq.jpg      1\n",
      "650   id_ee07amcwhqkm9.jpg      1\n",
      "74    id_1s7wouqgxxmds.jpg      1\n"
     ]
    }
   ],
   "source": [
    "print(imbal_1percent.head())\n",
    "print(imbal_5percent.head())\n",
    "print(imbal_10percent.head())"
   ]
  },
  {
   "cell_type": "code",
   "execution_count": 27,
   "metadata": {},
   "outputs": [],
   "source": [
    "imbal_1per = pd.concat([label0, imbal_1percent])\n",
    "imbal_1per = imbal_1per.sort_index()\n",
    "\n",
    "imbal_5per = pd.concat([label0, imbal_5percent])\n",
    "imbal_5per = imbal_5per.sort_index()\n",
    "\n",
    "imbal_10per = pd.concat([label0, imbal_10percent])\n",
    "imbal_10per = imbal_10per.sort_index()"
   ]
  },
  {
   "cell_type": "code",
   "execution_count": 28,
   "metadata": {},
   "outputs": [],
   "source": [
    "imbal_1per.to_csv('./zindi/imbalanced_1%_train.csv')\n",
    "imbal_5per.to_csv('./zindi/imbalanced_5%_train.csv')\n",
    "imbal_10per.to_csv('./zindi/imbalanced_10%_train.csv')"
   ]
  }
 ],
 "metadata": {
  "interpreter": {
   "hash": "d88f82afb66455697598f3be97bf4103fd55222ccf64b880ef38c583c364c29c"
  },
  "kernelspec": {
   "display_name": "Python 3.9.7 ('tf')",
   "language": "python",
   "name": "python3"
  },
  "language_info": {
   "codemirror_mode": {
    "name": "ipython",
    "version": 3
   },
   "file_extension": ".py",
   "mimetype": "text/x-python",
   "name": "python",
   "nbconvert_exporter": "python",
   "pygments_lexer": "ipython3",
   "version": "3.9.7"
  },
  "orig_nbformat": 4
 },
 "nbformat": 4,
 "nbformat_minor": 2
}
