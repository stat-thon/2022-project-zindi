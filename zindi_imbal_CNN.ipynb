{
 "cells": [
  {
   "cell_type": "markdown",
   "metadata": {},
   "source": [
    "# Zindi Image classification (Binary)"
   ]
  },
  {
   "cell_type": "code",
   "execution_count": 1,
   "metadata": {},
   "outputs": [],
   "source": [
    "# Import packages\n",
    "\n",
    "import numpy as np\n",
    "import pandas as pd\n",
    "\n",
    "import matplotlib.pyplot as plt\n",
    "import matplotlib.image as img # to read images\n",
    "\n",
    "import os                      # to generate new file directories\n",
    "import shutil                  # to move files\n",
    "from tqdm import tqdm          # to see process bar\n",
    "\n",
    "import glob                    # to gather jpg files\n",
    "from glob import glob\n",
    "\n",
    "import tensorflow as tf"
   ]
  },
  {
   "cell_type": "markdown",
   "metadata": {},
   "source": [
    "# Input your own file directory"
   ]
  },
  {
   "cell_type": "code",
   "execution_count": 3,
   "metadata": {},
   "outputs": [],
   "source": [
    "# Input your file directory\n",
    "\n",
    "file_dir = 'D:/thon/DL/zindi' # Change here with your file directory"
   ]
  },
  {
   "cell_type": "code",
   "execution_count": 6,
   "metadata": {},
   "outputs": [
    {
     "name": "stdout",
     "output_type": "stream",
     "text": [
      "The number of New_train data is  891\n",
      "               Image_id  Label\n",
      "0  id_02mh3w48pmyc9.jpg      0\n",
      "1  id_02rpb463h9d3w.jpg      0\n",
      "2  id_02wc3jeeao8ol.jpg      1\n",
      "3  id_04xrxyd43rlgz.jpg      0\n",
      "4  id_082w0qygo3eth.jpg      0\n",
      "\n",
      "\n",
      "               Image_id\n",
      "0  id_00exusbkgzw1b.jpg\n",
      "1  id_03dqinf6w0znv.jpg\n",
      "2  id_046yl0cxn3ybz.jpg\n",
      "3  id_04athdtx2abyg.jpg\n",
      "4  id_062aauf9e9jk0.jpg\n",
      "\n",
      "\n",
      "The number of test data is  1080\n",
      "1080\n"
     ]
    }
   ],
   "source": [
    "# Read train, test and submission csv files\n",
    "\n",
    "train_df = pd.read_csv(file_dir + '/New_Train.csv')\n",
    "test_df = pd.read_csv(file_dir + '/Test.csv')\n",
    "sample_sub = pd.read_csv(file_dir + '/SampleSubmission.csv')\n",
    "\n",
    "print(\"The number of New_train data is \", len(train_df['Image_id']))\n",
    "print(train_df.head())\n",
    "print('\\n')\n",
    "print(test_df.head())\n",
    "print('\\n')\n",
    "print(\"The number of test data is \", len(test_df['Image_id']))\n",
    "print(np.sum(test_df['Image_id'] == sample_sub['Image_id'])) # Test.csv and SampleSubmission.csv's Image_id is identical"
   ]
  },
  {
   "cell_type": "markdown",
   "metadata": {},
   "source": [
    "# Managing Image directories and files"
   ]
  },
  {
   "cell_type": "markdown",
   "metadata": {},
   "source": [
    "## You don't need to do it twice"
   ]
  },
  {
   "cell_type": "code",
   "execution_count": 10,
   "metadata": {},
   "outputs": [],
   "source": [
    "### You don't need to do it twice\n",
    "\n",
    "# Set an image directory\n",
    "img_dir = file_dir + '/Images'\n",
    "\n",
    "# Set train and test directories\n",
    "\n",
    "train_dir = img_dir + '/imbalanced_train'\n",
    "test_dir = img_dir + '/test'\n",
    "\n",
    "# Generate '0' / '1' label folder in 'train' folder\n",
    "\n",
    "os.makedirs(train_dir + '/1')\n",
    "os.makedirs(train_dir + '/0')\n",
    "\n",
    "# Set train label 0 and 1 directories\n",
    "\n",
    "train1_dir = train_dir + '/1'\n",
    "train0_dir = train_dir + '/0'\n",
    "\n",
    "\n",
    "### To move files according to train.csv and test.csv's 'Image_id' column\n",
    "\n",
    "train_file_name = train_df[\"Image_id\"]\n",
    "train_file_label = train_df[\"Label\"]\n",
    "\n",
    "# Separate train images to '0' / '1' label folder\n",
    "\n",
    "for i, name in enumerate(train_file_name):\n",
    "    file_source = train_dir + f'/{name}'\n",
    "    file_destination_1 = train1_dir # for Label 1\n",
    "    file_destination_0 = train0_dir # for Label 0\n",
    "\n",
    "    if train_file_label[i] == 1:\n",
    "        shutil.move(file_source, file_destination_1)\n",
    "    else:\n",
    "        shutil.move(file_source, file_destination_0)"
   ]
  },
  {
   "cell_type": "markdown",
   "metadata": {},
   "source": [
    "# Image preprocessing"
   ]
  },
  {
   "cell_type": "code",
   "execution_count": 13,
   "metadata": {},
   "outputs": [
    {
     "name": "stdout",
     "output_type": "stream",
     "text": [
      "Found 891 files belonging to 2 classes.\n",
      "Using 713 files for training.\n",
      "\n",
      "\n",
      "Found 891 files belonging to 2 classes.\n",
      "Using 178 files for validation.\n",
      "\n",
      "\n",
      "Found 1080 files belonging to 1 classes.\n"
     ]
    }
   ],
   "source": [
    "### Image preprocessing\n",
    "# Set batch_size, img_height, img_width\n",
    "\n",
    "batch_size = 32\n",
    "img_height = 180\n",
    "img_width = 180\n",
    "\n",
    "\n",
    "# Train image dataset\n",
    "\n",
    "train_ds = tf.keras.preprocessing.image_dataset_from_directory(\n",
    "    train_dir,\n",
    "    validation_split = 0.2, # 891 * 0.8 = 713 images are for train dataset\n",
    "    label_mode = 'binary',\n",
    "    subset = 'training',\n",
    "    shuffle = True,\n",
    "    seed = 2021120087,\n",
    "    image_size = (img_height, img_width),\n",
    "    batch_size = batch_size)\n",
    "\n",
    "print('\\n')\n",
    "\n",
    "# Validation image dataset\n",
    "\n",
    "val_ds = tf.keras.preprocessing.image_dataset_from_directory(\n",
    "    train_dir,\n",
    "    validation_split = 0.2, # 891 * 0.2 = 178 images are for validation dataset\n",
    "    label_mode = 'binary',\n",
    "    subset = \"validation\",\n",
    "    shuffle = True,\n",
    "    seed = 2021120087,\n",
    "    image_size = (img_height, img_width),\n",
    "    batch_size = batch_size)\n",
    "\n",
    "print('\\n')\n",
    "\n",
    "# Test image dataset\n",
    "\n",
    "test_ds = tf.keras.preprocessing.image_dataset_from_directory(\n",
    "    test_dir,\n",
    "    label_mode = None,\n",
    "    shuffle = False,\n",
    "    image_size = (img_height, img_width),\n",
    "    batch_size = batch_size)"
   ]
  },
  {
   "cell_type": "code",
   "execution_count": 14,
   "metadata": {},
   "outputs": [
    {
     "name": "stdout",
     "output_type": "stream",
     "text": [
      "['0', '1']\n",
      "(32, 180, 180, 3)\n",
      "(32, 1)\n"
     ]
    }
   ],
   "source": [
    "# Class names (Labels)\n",
    "\n",
    "class_names = train_ds.class_names\n",
    "print(class_names)\n",
    "\n",
    "\n",
    "# Check the train image shapes\n",
    "\n",
    "for image_batch, labels_batch in train_ds:\n",
    "    print(image_batch.shape)\n",
    "    print(labels_batch.shape)\n",
    "    break"
   ]
  },
  {
   "cell_type": "markdown",
   "metadata": {},
   "source": [
    "# Define Model using tensorflow"
   ]
  },
  {
   "cell_type": "code",
   "execution_count": 19,
   "metadata": {},
   "outputs": [
    {
     "name": "stdout",
     "output_type": "stream",
     "text": [
      "Model: \"model_2\"\n",
      "_________________________________________________________________\n",
      "Layer (type)                 Output Shape              Param #   \n",
      "=================================================================\n",
      "input_3 (InputLayer)         [(None, 180, 180, 3)]     0         \n",
      "_________________________________________________________________\n",
      "rescaling_2 (Rescaling)      (None, 180, 180, 3)       0         \n",
      "_________________________________________________________________\n",
      "conv2d_10 (Conv2D)           (None, 178, 178, 32)      896       \n",
      "_________________________________________________________________\n",
      "max_pooling2d_8 (MaxPooling2 (None, 89, 89, 32)        0         \n",
      "_________________________________________________________________\n",
      "conv2d_11 (Conv2D)           (None, 87, 87, 64)        18496     \n",
      "_________________________________________________________________\n",
      "max_pooling2d_9 (MaxPooling2 (None, 43, 43, 64)        0         \n",
      "_________________________________________________________________\n",
      "conv2d_12 (Conv2D)           (None, 41, 41, 128)       73856     \n",
      "_________________________________________________________________\n",
      "max_pooling2d_10 (MaxPooling (None, 20, 20, 128)       0         \n",
      "_________________________________________________________________\n",
      "conv2d_13 (Conv2D)           (None, 18, 18, 256)       295168    \n",
      "_________________________________________________________________\n",
      "max_pooling2d_11 (MaxPooling (None, 9, 9, 256)         0         \n",
      "_________________________________________________________________\n",
      "conv2d_14 (Conv2D)           (None, 7, 7, 256)         590080    \n",
      "_________________________________________________________________\n",
      "flatten_2 (Flatten)          (None, 12544)             0         \n",
      "_________________________________________________________________\n",
      "dense_2 (Dense)              (None, 1)                 12545     \n",
      "=================================================================\n",
      "Total params: 991,041\n",
      "Trainable params: 991,041\n",
      "Non-trainable params: 0\n",
      "_________________________________________________________________\n"
     ]
    }
   ],
   "source": [
    "# ConvNet layers\n",
    "\n",
    "from tensorflow import keras\n",
    "from tensorflow.keras import layers\n",
    "\n",
    "inputs = keras.Input(shape = (180, 180, 3))\n",
    "x = layers.experimental.preprocessing.Rescaling(1./255)(inputs)\n",
    "x = layers.Conv2D(filters = 32, kernel_size = 3, activation = \"relu\")(x)\n",
    "x = layers.MaxPooling2D(pool_size = 2)(x)\n",
    "x = layers.Conv2D(filters = 64, kernel_size = 3, activation = \"relu\")(x)\n",
    "x = layers.MaxPooling2D(pool_size = 2)(x)\n",
    "x = layers.Conv2D(filters = 128, kernel_size = 3, activation = \"relu\")(x)\n",
    "x = layers.MaxPooling2D(pool_size = 2)(x)\n",
    "x = layers.Conv2D(filters = 256, kernel_size = 3, activation = \"relu\")(x)\n",
    "x = layers.MaxPooling2D(pool_size = 2)(x)\n",
    "x = layers.Conv2D(filters = 256, kernel_size = 3, activation = \"relu\")(x)\n",
    "x = layers.Flatten()(x)\n",
    "outputs = layers.Dense(1, activation = \"sigmoid\")(x)\n",
    "model = keras.Model(inputs = inputs, outputs = outputs)\n",
    "\n",
    "# Model summary\n",
    "\n",
    "model.summary()"
   ]
  },
  {
   "cell_type": "markdown",
   "metadata": {},
   "source": [
    "# Train model"
   ]
  },
  {
   "cell_type": "code",
   "execution_count": 20,
   "metadata": {},
   "outputs": [
    {
     "name": "stdout",
     "output_type": "stream",
     "text": [
      "Epoch 1/20\n",
      "23/23 [==============================] - 3s 96ms/step - loss: 0.3425 - auc: 0.5557 - val_loss: 0.5058 - val_auc: 0.6761\n",
      "Epoch 2/20\n",
      "23/23 [==============================] - 2s 88ms/step - loss: 0.3613 - auc: 0.5436 - val_loss: 0.3083 - val_auc: 0.5802\n",
      "Epoch 3/20\n",
      "23/23 [==============================] - 2s 88ms/step - loss: 0.3129 - auc: 0.5643 - val_loss: 0.3658 - val_auc: 0.6786\n",
      "Epoch 4/20\n",
      "23/23 [==============================] - 2s 89ms/step - loss: 0.3048 - auc: 0.6298 - val_loss: 0.2922 - val_auc: 0.6603\n",
      "Epoch 5/20\n",
      "23/23 [==============================] - 2s 89ms/step - loss: 0.2482 - auc: 0.7995 - val_loss: 0.2722 - val_auc: 0.7822\n",
      "Epoch 6/20\n",
      "23/23 [==============================] - 2s 88ms/step - loss: 0.2353 - auc: 0.8490 - val_loss: 0.3127 - val_auc: 0.7834\n",
      "Epoch 7/20\n",
      "23/23 [==============================] - 2s 88ms/step - loss: 0.2424 - auc: 0.8249 - val_loss: 0.2791 - val_auc: 0.7822\n",
      "Epoch 8/20\n",
      "23/23 [==============================] - 2s 88ms/step - loss: 0.1647 - auc: 0.9271 - val_loss: 0.2375 - val_auc: 0.8239\n",
      "Epoch 9/20\n",
      "23/23 [==============================] - 2s 88ms/step - loss: 0.1554 - auc: 0.9304 - val_loss: 0.2344 - val_auc: 0.8164\n",
      "Epoch 10/20\n",
      "23/23 [==============================] - 2s 87ms/step - loss: 0.1252 - auc: 0.9603 - val_loss: 0.2796 - val_auc: 0.8152\n",
      "Epoch 11/20\n",
      "23/23 [==============================] - 2s 87ms/step - loss: 0.1052 - auc: 0.9669 - val_loss: 0.4058 - val_auc: 0.7442\n",
      "Epoch 12/20\n",
      "23/23 [==============================] - 2s 88ms/step - loss: 0.1343 - auc: 0.9543 - val_loss: 0.2429 - val_auc: 0.8412\n",
      "Epoch 13/20\n",
      "23/23 [==============================] - 2s 87ms/step - loss: 0.0913 - auc: 0.9819 - val_loss: 0.2879 - val_auc: 0.8258\n",
      "Epoch 14/20\n",
      "23/23 [==============================] - 2s 87ms/step - loss: 0.0737 - auc: 0.9814 - val_loss: 0.2919 - val_auc: 0.8094\n",
      "Epoch 15/20\n",
      "23/23 [==============================] - 2s 87ms/step - loss: 0.0585 - auc: 0.9959 - val_loss: 0.3412 - val_auc: 0.8166\n",
      "Epoch 16/20\n",
      "23/23 [==============================] - 2s 87ms/step - loss: 0.0396 - auc: 0.9968 - val_loss: 0.3812 - val_auc: 0.7888\n",
      "Epoch 17/20\n",
      "23/23 [==============================] - 2s 88ms/step - loss: 0.0663 - auc: 0.9840 - val_loss: 0.4065 - val_auc: 0.7008\n",
      "Epoch 18/20\n",
      "23/23 [==============================] - 2s 88ms/step - loss: 0.0436 - auc: 0.9967 - val_loss: 0.3826 - val_auc: 0.7670\n",
      "Epoch 19/20\n",
      "23/23 [==============================] - 2s 87ms/step - loss: 0.0678 - auc: 0.9900 - val_loss: 0.4345 - val_auc: 0.7272\n",
      "Epoch 20/20\n",
      "23/23 [==============================] - 2s 87ms/step - loss: 0.0642 - auc: 0.9841 - val_loss: 0.4859 - val_auc: 0.6898\n"
     ]
    }
   ],
   "source": [
    "# Compile model\n",
    "\n",
    "model.compile(\n",
    "    optimizer = 'adam',\n",
    "    loss = 'binary_crossentropy',\n",
    "    metrics = ['AUC']\n",
    ")\n",
    "\n",
    "# Train model\n",
    "\n",
    "history = model.fit(train_ds, validation_data = val_ds, epochs = 20, batch_size = batch_size)"
   ]
  },
  {
   "cell_type": "code",
   "execution_count": 21,
   "metadata": {},
   "outputs": [
    {
     "data": {
      "image/png": "[encoded data removed]",
      "text/plain": [
       "<Figure size 432x288 with 1 Axes>"
      ]
     },
     "metadata": {
      "needs_background": "light"
     },
     "output_type": "display_data"
    }
   ],
   "source": [
    "# Visualize validation loss and accuracy loss\n",
    "\n",
    "history_dict = history.history\n",
    "loss_values = history_dict[\"loss\"]\n",
    "val_loss_values = history_dict[\"val_loss\"]\n",
    "epochs = range(1, len(loss_values) + 1)\n",
    "plt.plot(epochs, loss_values, \"bo\", label = \"Training loss\")\n",
    "plt.plot(epochs, val_loss_values, \"b\", label = \"Validation loss\")\n",
    "plt.title(\"Training and validation loss\")\n",
    "plt.xlabel(\"Epochs\")\n",
    "plt.ylabel(\"Loss\")\n",
    "plt.legend()\n",
    "plt.show()"
   ]
  },
  {
   "cell_type": "markdown",
   "metadata": {},
   "source": [
    "# To find the best model"
   ]
  },
  {
   "cell_type": "code",
   "execution_count": 22,
   "metadata": {},
   "outputs": [
    {
     "name": "stdout",
     "output_type": "stream",
     "text": [
      "Epoch 1/50\n",
      "23/23 [==============================] - 3s 98ms/step - loss: 0.3841 - auc: 0.4629 - val_loss: 0.3155 - val_auc: 0.5581\n",
      "INFO:tensorflow:Assets written to: convnet.keras.imbalanced\\assets\n",
      "Epoch 2/50\n",
      "23/23 [==============================] - 3s 96ms/step - loss: 0.3076 - auc: 0.5590 - val_loss: 0.3098 - val_auc: 0.6497\n",
      "INFO:tensorflow:Assets written to: convnet.keras.imbalanced\\assets\n",
      "Epoch 3/50\n",
      "23/23 [==============================] - 3s 96ms/step - loss: 0.3490 - auc: 0.5649 - val_loss: 0.3395 - val_auc: 0.6331\n",
      "Epoch 4/50\n",
      "23/23 [==============================] - 2s 89ms/step - loss: 0.3008 - auc: 0.6240 - val_loss: 0.2791 - val_auc: 0.7687\n",
      "INFO:tensorflow:Assets written to: convnet.keras.imbalanced\\assets\n",
      "Epoch 5/50\n",
      "23/23 [==============================] - 2s 88ms/step - loss: 0.2598 - auc: 0.7777 - val_loss: 0.2430 - val_auc: 0.8299\n",
      "INFO:tensorflow:Assets written to: convnet.keras.imbalanced\\assets\n",
      "Epoch 6/50\n",
      "23/23 [==============================] - 2s 88ms/step - loss: 0.2142 - auc: 0.8723 - val_loss: 0.2548 - val_auc: 0.8243\n",
      "Epoch 7/50\n",
      "23/23 [==============================] - 2s 88ms/step - loss: 0.2083 - auc: 0.8684 - val_loss: 0.2262 - val_auc: 0.8397\n",
      "INFO:tensorflow:Assets written to: convnet.keras.imbalanced\\assets\n",
      "Epoch 8/50\n",
      "23/23 [==============================] - 2s 87ms/step - loss: 0.1748 - auc: 0.9190 - val_loss: 0.3003 - val_auc: 0.7641s: 0.1651 - auc: 0.9\n",
      "Epoch 9/50\n",
      "23/23 [==============================] - 2s 89ms/step - loss: 0.2290 - auc: 0.8337 - val_loss: 0.2423 - val_auc: 0.8615\n",
      "Epoch 10/50\n",
      "23/23 [==============================] - 2s 89ms/step - loss: 0.1894 - auc: 0.8941 - val_loss: 0.2280 - val_auc: 0.8439\n",
      "Epoch 11/50\n",
      "23/23 [==============================] - 2s 89ms/step - loss: 0.1472 - auc: 0.9312 - val_loss: 0.2409 - val_auc: 0.8343\n",
      "Epoch 12/50\n",
      "23/23 [==============================] - 2s 90ms/step - loss: 0.1176 - auc: 0.9714 - val_loss: 0.2449 - val_auc: 0.8600\n",
      "Epoch 13/50\n",
      "23/23 [==============================] - 2s 87ms/step - loss: 0.1083 - auc: 0.9707 - val_loss: 0.2569 - val_auc: 0.8233\n",
      "Epoch 14/50\n",
      "23/23 [==============================] - 2s 88ms/step - loss: 0.1117 - auc: 0.9664 - val_loss: 0.2477 - val_auc: 0.8389\n",
      "Epoch 15/50\n",
      "23/23 [==============================] - 2s 88ms/step - loss: 0.0770 - auc: 0.9884 - val_loss: 0.2962 - val_auc: 0.7905\n",
      "Epoch 16/50\n",
      "23/23 [==============================] - 2s 89ms/step - loss: 0.0694 - auc: 0.9807 - val_loss: 0.2890 - val_auc: 0.7921\n",
      "Epoch 17/50\n",
      "23/23 [==============================] - 2s 88ms/step - loss: 0.0867 - auc: 0.9834 - val_loss: 0.2482 - val_auc: 0.8387\n",
      "Epoch 18/50\n",
      "23/23 [==============================] - 2s 88ms/step - loss: 0.0498 - auc: 0.9941 - val_loss: 0.2053 - val_auc: 0.9103\n",
      "INFO:tensorflow:Assets written to: convnet.keras.imbalanced\\assets\n",
      "Epoch 19/50\n",
      "23/23 [==============================] - 2s 88ms/step - loss: 0.0403 - auc: 0.9968 - val_loss: 0.3468 - val_auc: 0.8057\n",
      "Epoch 20/50\n",
      "23/23 [==============================] - 2s 88ms/step - loss: 0.0277 - auc: 0.9987 - val_loss: 0.3461 - val_auc: 0.8081\n",
      "Epoch 21/50\n",
      "23/23 [==============================] - 2s 87ms/step - loss: 0.0328 - auc: 0.9982 - val_loss: 0.3429 - val_auc: 0.8459\n",
      "Epoch 22/50\n",
      "23/23 [==============================] - 2s 88ms/step - loss: 0.0219 - auc: 0.9991 - val_loss: 0.4774 - val_auc: 0.7151\n",
      "Epoch 23/50\n",
      "23/23 [==============================] - 2s 89ms/step - loss: 0.0118 - auc: 0.9998 - val_loss: 0.5155 - val_auc: 0.7539\n",
      "Epoch 24/50\n",
      "23/23 [==============================] - 2s 88ms/step - loss: 0.0068 - auc: 1.0000 - val_loss: 0.4110 - val_auc: 0.7768\n",
      "Epoch 25/50\n",
      "23/23 [==============================] - 2s 87ms/step - loss: 0.0020 - auc: 1.0000 - val_loss: 0.4594 - val_auc: 0.8061\n",
      "Epoch 26/50\n",
      "23/23 [==============================] - 2s 88ms/step - loss: 0.0011 - auc: 1.0000 - val_loss: 0.5758 - val_auc: 0.7596\n",
      "Epoch 27/50\n",
      "23/23 [==============================] - 2s 87ms/step - loss: 4.7133e-04 - auc: 1.0000 - val_loss: 0.5905 - val_auc: 0.7544\n",
      "Epoch 28/50\n",
      "23/23 [==============================] - 2s 87ms/step - loss: 2.0414e-04 - auc: 1.0000 - val_loss: 0.6095 - val_auc: 0.7542\n",
      "Epoch 29/50\n",
      "23/23 [==============================] - 2s 88ms/step - loss: 1.4238e-04 - auc: 1.0000 - val_loss: 0.6247 - val_auc: 0.7554\n",
      "Epoch 30/50\n",
      "23/23 [==============================] - 2s 87ms/step - loss: 1.1121e-04 - auc: 1.0000 - val_loss: 0.6375 - val_auc: 0.7554\n",
      "Epoch 31/50\n",
      "23/23 [==============================] - 2s 88ms/step - loss: 9.3167e-05 - auc: 1.0000 - val_loss: 0.6499 - val_auc: 0.7554\n",
      "Epoch 32/50\n",
      "23/23 [==============================] - 2s 87ms/step - loss: 7.9016e-05 - auc: 1.0000 - val_loss: 0.6588 - val_auc: 0.7568\n",
      "Epoch 33/50\n",
      "23/23 [==============================] - 2s 87ms/step - loss: 6.7336e-05 - auc: 1.0000 - val_loss: 0.6666 - val_auc: 0.7568\n",
      "Epoch 34/50\n",
      "23/23 [==============================] - 2s 88ms/step - loss: 5.7220e-05 - auc: 1.0000 - val_loss: 0.6774 - val_auc: 0.7568\n",
      "Epoch 35/50\n",
      "23/23 [==============================] - 2s 87ms/step - loss: 5.1435e-05 - auc: 1.0000 - val_loss: 0.6826 - val_auc: 0.7569\n",
      "Epoch 36/50\n",
      "23/23 [==============================] - 2s 86ms/step - loss: 4.5474e-05 - auc: 1.0000 - val_loss: 0.6900 - val_auc: 0.7569\n",
      "Epoch 37/50\n",
      "23/23 [==============================] - 2s 88ms/step - loss: 4.0387e-05 - auc: 1.0000 - val_loss: 0.6954 - val_auc: 0.7568\n",
      "Epoch 38/50\n",
      "23/23 [==============================] - 2s 88ms/step - loss: 3.6631e-05 - auc: 1.0000 - val_loss: 0.7024 - val_auc: 0.7571\n",
      "Epoch 39/50\n",
      "23/23 [==============================] - 2s 88ms/step - loss: 3.3102e-05 - auc: 1.0000 - val_loss: 0.7027 - val_auc: 0.7575A: 0s - loss: 3.3110e-05 - auc: 1.000 - ETA: 0s - loss: 3.3525e-05 - auc: 1.000\n",
      "Epoch 40/50\n",
      "23/23 [==============================] - 2s 89ms/step - loss: 3.0151e-05 - auc: 1.0000 - val_loss: 0.7082 - val_auc: 0.7573\n",
      "Epoch 41/50\n",
      "23/23 [==============================] - 2s 86ms/step - loss: 2.7817e-05 - auc: 1.0000 - val_loss: 0.7119 - val_auc: 0.7573\n",
      "Epoch 42/50\n",
      "23/23 [==============================] - 2s 84ms/step - loss: 2.5711e-05 - auc: 1.0000 - val_loss: 0.7171 - val_auc: 0.7589\n",
      "Epoch 43/50\n",
      "23/23 [==============================] - 2s 85ms/step - loss: 2.3780e-05 - auc: 1.0000 - val_loss: 0.7211 - val_auc: 0.7589\n",
      "Epoch 44/50\n",
      "23/23 [==============================] - 2s 85ms/step - loss: 2.2019e-05 - auc: 1.0000 - val_loss: 0.7266 - val_auc: 0.7587\n",
      "Epoch 45/50\n",
      "23/23 [==============================] - 2s 86ms/step - loss: 2.0818e-05 - auc: 1.0000 - val_loss: 0.7306 - val_auc: 0.7583\n",
      "Epoch 46/50\n",
      "23/23 [==============================] - 2s 91ms/step - loss: 1.9197e-05 - auc: 1.0000 - val_loss: 0.7338 - val_auc: 0.7587\n",
      "Epoch 47/50\n",
      "23/23 [==============================] - 2s 89ms/step - loss: 1.7916e-05 - auc: 1.0000 - val_loss: 0.7377 - val_auc: 0.7587\n",
      "Epoch 48/50\n",
      "23/23 [==============================] - 2s 89ms/step - loss: 1.6754e-05 - auc: 1.0000 - val_loss: 0.7416 - val_auc: 0.7585\n",
      "Epoch 49/50\n",
      "23/23 [==============================] - 2s 95ms/step - loss: 1.5803e-05 - auc: 1.0000 - val_loss: 0.7454 - val_auc: 0.7585\n",
      "Epoch 50/50\n",
      "23/23 [==============================] - 2s 88ms/step - loss: 1.4784e-05 - auc: 1.0000 - val_loss: 0.7473 - val_auc: 0.7585\n"
     ]
    }
   ],
   "source": [
    "### Find the best model using callbacks\n",
    "# Define model again\n",
    "\n",
    "inputs = keras.Input(shape = (180, 180, 3))\n",
    "x = layers.experimental.preprocessing.Rescaling(1./255)(inputs)\n",
    "x = layers.Conv2D(filters = 32, kernel_size = 3, activation = \"relu\")(x)\n",
    "x = layers.MaxPooling2D(pool_size = 2)(x)\n",
    "x = layers.Conv2D(filters = 64, kernel_size = 3, activation = \"relu\")(x)\n",
    "x = layers.MaxPooling2D(pool_size = 2)(x)\n",
    "x = layers.Conv2D(filters = 128, kernel_size = 3, activation = \"relu\")(x)\n",
    "x = layers.MaxPooling2D(pool_size = 2)(x)\n",
    "x = layers.Conv2D(filters = 256, kernel_size = 3, activation = \"relu\")(x)\n",
    "x = layers.MaxPooling2D(pool_size = 2)(x)\n",
    "x = layers.Conv2D(filters = 256, kernel_size = 3, activation = \"relu\")(x)\n",
    "x = layers.Flatten()(x)\n",
    "outputs = layers.Dense(1, activation = \"sigmoid\")(x)\n",
    "model = keras.Model(inputs = inputs, outputs = outputs)\n",
    "\n",
    "# Compile model\n",
    "\n",
    "model.compile(\n",
    "    optimizer = 'adam',\n",
    "    loss = 'binary_crossentropy',\n",
    "    metrics = ['AUC']\n",
    ")\n",
    "\n",
    "callbacks = [\n",
    "    keras.callbacks.ModelCheckpoint(\n",
    "        filepath = \"convnet.keras.imbalanced\", # Save the best model as 'convnet.kears.imbalanced'\n",
    "        save_best_only = True,\n",
    "        monitor = \"val_loss\")\n",
    "]\n",
    "\n",
    "history_test = model.fit(\n",
    "    train_ds,\n",
    "    epochs = 50,\n",
    "    validation_data = val_ds,\n",
    "    callbacks = callbacks)"
   ]
  },
  {
   "cell_type": "code",
   "execution_count": 32,
   "metadata": {},
   "outputs": [
    {
     "name": "stdout",
     "output_type": "stream",
     "text": [
      "0.20528709888458252 0.9103009104728699\n"
     ]
    }
   ],
   "source": [
    "print(np.min(history_test.history[\"val_loss\"]), np.max(history_test.history[\"val_auc\"]))"
   ]
  },
  {
   "cell_type": "code",
   "execution_count": 33,
   "metadata": {},
   "outputs": [
    {
     "data": {
      "text/html": [
       "<div>\n",
       "<style scoped>\n",
       "    .dataframe tbody tr th:only-of-type {\n",
       "        vertical-align: middle;\n",
       "    }\n",
       "\n",
       "    .dataframe tbody tr th {\n",
       "        vertical-align: top;\n",
       "    }\n",
       "\n",
       "    .dataframe thead th {\n",
       "        text-align: right;\n",
       "    }\n",
       "</style>\n",
       "<table border=\"1\" class=\"dataframe\">\n",
       "  <thead>\n",
       "    <tr style=\"text-align: right;\">\n",
       "      <th></th>\n",
       "      <th>Image_id</th>\n",
       "      <th>Label</th>\n",
       "    </tr>\n",
       "  </thead>\n",
       "  <tbody>\n",
       "    <tr>\n",
       "      <th>0</th>\n",
       "      <td>id_00exusbkgzw1b.jpg</td>\n",
       "      <td>0</td>\n",
       "    </tr>\n",
       "    <tr>\n",
       "      <th>1</th>\n",
       "      <td>id_03dqinf6w0znv.jpg</td>\n",
       "      <td>0</td>\n",
       "    </tr>\n",
       "    <tr>\n",
       "      <th>2</th>\n",
       "      <td>id_046yl0cxn3ybz.jpg</td>\n",
       "      <td>1</td>\n",
       "    </tr>\n",
       "    <tr>\n",
       "      <th>3</th>\n",
       "      <td>id_04athdtx2abyg.jpg</td>\n",
       "      <td>0</td>\n",
       "    </tr>\n",
       "    <tr>\n",
       "      <th>4</th>\n",
       "      <td>id_062aauf9e9jk0.jpg</td>\n",
       "      <td>0</td>\n",
       "    </tr>\n",
       "  </tbody>\n",
       "</table>\n",
       "</div>"
      ],
      "text/plain": [
       "               Image_id  Label\n",
       "0  id_00exusbkgzw1b.jpg      0\n",
       "1  id_03dqinf6w0znv.jpg      0\n",
       "2  id_046yl0cxn3ybz.jpg      1\n",
       "3  id_04athdtx2abyg.jpg      0\n",
       "4  id_062aauf9e9jk0.jpg      0"
      ]
     },
     "execution_count": 33,
     "metadata": {},
     "output_type": "execute_result"
    }
   ],
   "source": [
    "# Fit the best model\n",
    "\n",
    "test_model = keras.models.load_model(\"convnet.keras.imbalanced\")\n",
    "# load the best model which we defined \"convnet.keras\"\n",
    "\n",
    "predictions = test_model.predict(test_ds)\n",
    "prediction_classes = [\n",
    "    1 if prob > 0.5 else 0 for prob in np.ravel(predictions)\n",
    "]\n",
    "\n",
    "sample_sub[\"Label\"] = prediction_classes\n",
    "sample_sub.head()"
   ]
  },
  {
   "cell_type": "code",
   "execution_count": 34,
   "metadata": {},
   "outputs": [],
   "source": [
    "# Save csv file\n",
    "\n",
    "sample_sub.to_csv(\"Submission_imbal.csv\", index = False)"
   ]
  }
 ],
 "metadata": {
  "interpreter": {
   "hash": "453dee3dc3901cb9a21ed0866384fb1d6a0d6f4710a79aa791e402cd59be06a2"
  },
  "kernelspec": {
   "display_name": "Python 3.9.7 ('tf')",
   "language": "python",
   "name": "python3"
  },
  "language_info": {
   "codemirror_mode": {
    "name": "ipython",
    "version": 3
   },
   "file_extension": ".py",
   "mimetype": "text/x-python",
   "name": "python",
   "nbconvert_exporter": "python",
   "pygments_lexer": "ipython3",
   "version": "3.9.7"
  },
  "orig_nbformat": 4
 },
 "nbformat": 4,
 "nbformat_minor": 2
}
