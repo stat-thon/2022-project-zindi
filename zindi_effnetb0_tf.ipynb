{
 "cells": [
  {
   "cell_type": "markdown",
   "metadata": {},
   "source": [
    "# Zindi Image classification (Binary)"
   ]
  },
  {
   "cell_type": "code",
   "execution_count": 46,
   "metadata": {},
   "outputs": [],
   "source": [
    "# Import packages\n",
    "\n",
    "import numpy as np\n",
    "import pandas as pd\n",
    "\n",
    "import matplotlib.pyplot as plt\n",
    "import matplotlib.image as img # to read images\n",
    "\n",
    "import os                      # to generate new file directories\n",
    "import shutil                  # to move files\n",
    "from tqdm import tqdm          # to see process bar\n",
    "import argparse\n",
    "\n",
    "\n",
    "import glob                    # to gather jpg files\n",
    "from glob import glob\n",
    "\n",
    "import tensorflow as tf\n",
    "from tensorflow import keras\n",
    "from tensorflow.keras import layers\n",
    "from tensorflow.keras.models import Sequential\n",
    "\n",
    "import tensorflow_datasets as tfds\n",
    "\n",
    "from keras.preprocessing.image import ImageDataGenerator\n",
    "from keras.preprocessing.image import img_to_array\n",
    "from keras.preprocessing.image import load_img\n",
    "\n",
    "os.environ[\"CUDA_VISIBLE_DEVICES\"] = \"0\" # Use GPU:0"
   ]
  },
  {
   "cell_type": "code",
   "execution_count": 31,
   "metadata": {},
   "outputs": [],
   "source": [
    "def auto_select_accelerator():\n",
    "    try:\n",
    "        tpu = tf.distribute.cluster_resolver.TPUClusterResolver()\n",
    "        tf.config.experimental_connect_to_cluster(tpu)\n",
    "        tf.tpu.experimental.initialize_tpu_system(tpu)\n",
    "        strategy = tf.distribute.experimental.TPUStrategy(tpu)\n",
    "        print(\"Running on TPU:\", tpu.master())\n",
    "    except ValueError:\n",
    "        strategy = tf.distribute.get_strategy()\n",
    "    print(f\"Running on {strategy.num_replicas_in_sync} replicas\")\n",
    "    return strategy"
   ]
  },
  {
   "cell_type": "code",
   "execution_count": 32,
   "metadata": {},
   "outputs": [
    {
     "name": "stdout",
     "output_type": "stream",
     "text": [
      "Running on 1 replicas\n"
     ]
    }
   ],
   "source": [
    "strategy = auto_select_accelerator()\n",
    "REPLICAS = strategy.num_replicas_in_sync\n",
    "AUTO = tf.data.experimental.AUTOTUNE"
   ]
  },
  {
   "cell_type": "markdown",
   "metadata": {},
   "source": [
    "# Input your own file directory"
   ]
  },
  {
   "cell_type": "code",
   "execution_count": 25,
   "metadata": {},
   "outputs": [],
   "source": [
    "# Input your file directory\n",
    "\n",
    "file_dir = 'D:/thon/DL/zindi' # Change here with your file directory\n",
    "\n",
    "img_dir = file_dir + '/Images'\n",
    "\n",
    "train_dir = img_dir + '/train'\n",
    "test_dir = img_dir + '/test'\n",
    "\n",
    "train1_dir = train_dir + '/1'\n",
    "train0_dir = train_dir + '/0'"
   ]
  },
  {
   "cell_type": "code",
   "execution_count": 26,
   "metadata": {},
   "outputs": [
    {
     "name": "stdout",
     "output_type": "stream",
     "text": [
      "1619\n",
      "               Image_id  Label\n",
      "0  id_02amazy34fgh2.jpg      1\n",
      "1  id_02mh3w48pmyc9.jpg      0\n",
      "2  id_02rpb463h9d3w.jpg      0\n",
      "3  id_02wc3jeeao8ol.jpg      1\n",
      "4  id_03t2hapb8wz8p.jpg      1\n",
      "\n",
      "\n",
      "               Image_id\n",
      "0  id_00exusbkgzw1b.jpg\n",
      "1  id_03dqinf6w0znv.jpg\n",
      "2  id_046yl0cxn3ybz.jpg\n",
      "3  id_04athdtx2abyg.jpg\n",
      "4  id_062aauf9e9jk0.jpg\n",
      "\n",
      "\n",
      "1080\n",
      "1080\n"
     ]
    }
   ],
   "source": [
    "# Read train, test and submission csv files\n",
    "\n",
    "train_df = pd.read_csv(file_dir + '/Train.csv')\n",
    "test_df = pd.read_csv(file_dir + '/Test.csv')\n",
    "sample_sub = pd.read_csv(file_dir + '/SampleSubmission.csv')\n",
    "\n",
    "print(len(train_df['Image_id']))\n",
    "print(train_df.head())\n",
    "print('\\n')\n",
    "print(test_df.head())\n",
    "print('\\n')\n",
    "print(len(test_df['Image_id']))\n",
    "print(np.sum(test_df['Image_id'] == sample_sub['Image_id'])) # Test.csv and SampleSubmission.csv's Image_id is identical"
   ]
  },
  {
   "cell_type": "markdown",
   "metadata": {},
   "source": [
    "# Image preprocessing"
   ]
  },
  {
   "cell_type": "code",
   "execution_count": 28,
   "metadata": {},
   "outputs": [
    {
     "name": "stdout",
     "output_type": "stream",
     "text": [
      "Found 1619 files belonging to 2 classes.\n",
      "Using 1296 files for training.\n",
      "\n",
      "\n",
      "Found 1619 files belonging to 2 classes.\n",
      "Using 323 files for validation.\n",
      "\n",
      "\n",
      "Found 1080 files belonging to 1 classes.\n",
      "\n",
      "\n",
      "['0', '1']\n",
      "\n",
      "\n",
      "The shape of image is (64, 224, 224, 3)\n",
      "The shape of labels is (64, 1)\n"
     ]
    }
   ],
   "source": [
    "### Image preprocessing\n",
    "# Set batch_size, img_height, img_width\n",
    "\n",
    "batch_size = 64\n",
    "img_size = 224 # EfficientNetB0 uses input shape (224, 224, 3)\n",
    "channels = 3\n",
    "size = (img_size, img_size)\n",
    "\n",
    "# Train image dataset\n",
    "\n",
    "train_ds = tf.keras.preprocessing.image_dataset_from_directory(\n",
    "    train_dir,\n",
    "    validation_split = 0.2, # 1619 * 0.8 = 1296 images are for train dataset\n",
    "    label_mode = 'binary',\n",
    "    subset = 'training',\n",
    "    shuffle = True,\n",
    "    seed = 2021120087,\n",
    "    image_size = size,\n",
    "    batch_size = batch_size)\n",
    "\n",
    "print('\\n')\n",
    "\n",
    "# Validation image dataset\n",
    "\n",
    "val_ds = tf.keras.preprocessing.image_dataset_from_directory(\n",
    "    train_dir,\n",
    "    validation_split = 0.2, # 1619 * 0.2 = 323 images are for validation dataset\n",
    "    label_mode = 'binary',\n",
    "    subset = \"validation\",\n",
    "    shuffle = True,\n",
    "    seed = 2021120087,\n",
    "    image_size = size,\n",
    "    batch_size = batch_size)\n",
    "\n",
    "print('\\n')\n",
    "\n",
    "# Test image dataset\n",
    "\n",
    "test_ds = tf.keras.preprocessing.image_dataset_from_directory(\n",
    "    test_dir,\n",
    "    label_mode = None,\n",
    "    shuffle = False,\n",
    "    image_size = size,\n",
    "    batch_size = batch_size)\n",
    "\n",
    "print('\\n')\n",
    "\n",
    "# Check the train image shapes\n",
    "\n",
    "class_names = train_ds.class_names\n",
    "print(class_names)\n",
    "num_classes = len(class_names)\n",
    "\n",
    "print('\\n')\n",
    "\n",
    "for image_batch, labels_batch in train_ds:\n",
    "    print(\"The shape of image is\", image_batch.shape)\n",
    "    print(\"The shape of labels is\", labels_batch.shape)\n",
    "    break"
   ]
  },
  {
   "cell_type": "code",
   "execution_count": 42,
   "metadata": {},
   "outputs": [],
   "source": []
  },
  {
   "cell_type": "code",
   "execution_count": 172,
   "metadata": {},
   "outputs": [],
   "source": [
    "train_ds_unbatch = train_ds.unbatch()\n",
    "train_ds_label = list(train_ds_unbatch.map(lambda x, y: y))\n",
    "train_ds_img = list(train_ds_unbatch.map(lambda x, y: x))\n",
    "\n",
    "val_ds_unbatch = val_ds.unbatch()\n",
    "val_ds_label = list(val_ds_unbatch.map(lambda x, y: y))\n",
    "val_ds_img = list(val_ds_unbatch.map(lambda x, y: x))\n",
    "\n",
    "train_ds_one_hot_label = to_categorical(train_ds_label)\n",
    "val_ds_one_hot_label = to_categorical(val_ds_label)\n",
    "\n",
    "train_ds = tf.data.Dataset.from_tensor_slices({\"img\" : train_ds_img, \"label\" : train_ds_one_hot_label})\n",
    "val_ds = tf.data.Dataset.from_tensor_slices({\"img\" : val_ds_img, \"label\" : val_ds_one_hot_label})\n",
    "\n",
    "train_ds = train_ds.batch(batch_size)\n",
    "val_ds = val_ds.batch(batch_size)"
   ]
  },
  {
   "cell_type": "code",
   "execution_count": 7,
   "metadata": {},
   "outputs": [],
   "source": [
    "from tensorflow.keras.utils import to_categorical\n",
    "\n",
    "train_ds_unbatch = train_ds.unbatch()\n",
    "train_ds_label = list(train_ds_unbatch.map(lambda x, y: y))\n",
    "train_ds_img = list(train_ds_unbatch.map(lambda x, y: x))\n",
    "\n",
    "val_ds_unbatch = val_ds.unbatch()\n",
    "val_ds_label = list(val_ds_unbatch.map(lambda x, y: y))\n",
    "val_ds_img = list(val_ds_unbatch.map(lambda x, y: x))\n",
    "\n",
    "train_ds_one_hot_label = to_categorical(train_ds_label)\n",
    "val_ds_one_hot_label = to_categorical(val_ds_label)\n",
    "\n",
    "train_ds = tf.data.Dataset.from_tensor_slices((train_ds_img, train_ds_one_hot_label))\n",
    "val_ds = tf.data.Dataset.from_tensor_slices((val_ds_img, val_ds_one_hot_label))\n",
    "\n",
    "train_ds = train_ds.batch(batch_size)\n",
    "val_ds = val_ds.batch(batch_size)"
   ]
  },
  {
   "cell_type": "code",
   "execution_count": 41,
   "metadata": {},
   "outputs": [
    {
     "ename": "AttributeError",
     "evalue": "module 'tensorflow.keras.layers' has no attribute 'RandomRotation'",
     "output_type": "error",
     "traceback": [
      "\u001b[1;31m---------------------------------------------------------------------------\u001b[0m",
      "\u001b[1;31mAttributeError\u001b[0m                            Traceback (most recent call last)",
      "\u001b[1;32md:\\thon\\DL\\zindi_efficientnet.ipynb Cell 12'\u001b[0m in \u001b[0;36m<cell line: 1>\u001b[1;34m()\u001b[0m\n\u001b[0;32m      <a href='vscode-notebook-cell:/d%3A/thon/DL/zindi_efficientnet.ipynb#ch0000024?line=0'>1</a>\u001b[0m img_augmentation \u001b[39m=\u001b[39m Sequential(\n\u001b[0;32m      <a href='vscode-notebook-cell:/d%3A/thon/DL/zindi_efficientnet.ipynb#ch0000024?line=1'>2</a>\u001b[0m     [\n\u001b[1;32m----> <a href='vscode-notebook-cell:/d%3A/thon/DL/zindi_efficientnet.ipynb#ch0000024?line=2'>3</a>\u001b[0m         layers\u001b[39m.\u001b[39;49mRandomRotation(factor\u001b[39m=\u001b[39m\u001b[39m0.15\u001b[39m),\n\u001b[0;32m      <a href='vscode-notebook-cell:/d%3A/thon/DL/zindi_efficientnet.ipynb#ch0000024?line=3'>4</a>\u001b[0m         layers\u001b[39m.\u001b[39mRandomTranslation(height_factor\u001b[39m=\u001b[39m\u001b[39m0.1\u001b[39m, width_factor\u001b[39m=\u001b[39m\u001b[39m0.1\u001b[39m),\n\u001b[0;32m      <a href='vscode-notebook-cell:/d%3A/thon/DL/zindi_efficientnet.ipynb#ch0000024?line=4'>5</a>\u001b[0m         layers\u001b[39m.\u001b[39mRandomFlip(),\n\u001b[0;32m      <a href='vscode-notebook-cell:/d%3A/thon/DL/zindi_efficientnet.ipynb#ch0000024?line=5'>6</a>\u001b[0m         layers\u001b[39m.\u001b[39mRandomContrast(factor\u001b[39m=\u001b[39m\u001b[39m0.1\u001b[39m),\n\u001b[0;32m      <a href='vscode-notebook-cell:/d%3A/thon/DL/zindi_efficientnet.ipynb#ch0000024?line=6'>7</a>\u001b[0m     ],\n\u001b[0;32m      <a href='vscode-notebook-cell:/d%3A/thon/DL/zindi_efficientnet.ipynb#ch0000024?line=7'>8</a>\u001b[0m     name\u001b[39m=\u001b[39m\u001b[39m\"\u001b[39m\u001b[39mimg_augmentation\u001b[39m\u001b[39m\"\u001b[39m,\n\u001b[0;32m      <a href='vscode-notebook-cell:/d%3A/thon/DL/zindi_efficientnet.ipynb#ch0000024?line=8'>9</a>\u001b[0m )\n",
      "\u001b[1;31mAttributeError\u001b[0m: module 'tensorflow.keras.layers' has no attribute 'RandomRotation'"
     ]
    }
   ],
   "source": [
    "img_augmentation = Sequential(\n",
    "    [\n",
    "        layers.RandomRotation(factor=0.15),\n",
    "        layers.RandomTranslation(height_factor=0.1, width_factor=0.1),\n",
    "        layers.RandomFlip(),\n",
    "        layers.RandomContrast(factor=0.1),\n",
    "    ],\n",
    "    name=\"img_augmentation\",\n",
    ")"
   ]
  },
  {
   "cell_type": "markdown",
   "metadata": {},
   "source": [
    "# Define Model using tensorflow"
   ]
  },
  {
   "cell_type": "code",
   "execution_count": 29,
   "metadata": {},
   "outputs": [
    {
     "name": "stdout",
     "output_type": "stream",
     "text": [
      "Model: \"model_7\"\n",
      "_________________________________________________________________\n",
      "Layer (type)                 Output Shape              Param #   \n",
      "=================================================================\n",
      "input_15 (InputLayer)        [(None, 224, 224, 3)]     0         \n",
      "_________________________________________________________________\n",
      "efficientnetb0 (Functional)  (None, 2)                 4052133   \n",
      "_________________________________________________________________\n",
      "dense_6 (Dense)              (None, 1)                 3         \n",
      "=================================================================\n",
      "Total params: 4,052,136\n",
      "Trainable params: 4,010,113\n",
      "Non-trainable params: 42,023\n",
      "_________________________________________________________________\n"
     ]
    }
   ],
   "source": [
    "# ConvNet layers\n",
    "\n",
    "inputs = keras.Input(shape = (img_size, img_size, channels))\n",
    "x = tf.keras.applications.EfficientNetB0(weights = None, classes = num_classes)(inputs)\n",
    "outputs = layers.Dense(1, activation = 'sigmoid')(x)\n",
    "\n",
    "model = tf.keras.Model(inputs = inputs, outputs = outputs)\n",
    "\n",
    "model.compile(\n",
    "    optimizer = 'adam',\n",
    "    loss = tf.losses.BinaryCrossentropy(),\n",
    "    metrics = ['Accuracy']\n",
    ")\n",
    "\n",
    "\n",
    "# Model summary\n",
    "\n",
    "model.summary()"
   ]
  },
  {
   "cell_type": "markdown",
   "metadata": {},
   "source": [
    "# Train model"
   ]
  },
  {
   "cell_type": "code",
   "execution_count": 39,
   "metadata": {},
   "outputs": [
    {
     "name": "stdout",
     "output_type": "stream",
     "text": [
      "Epoch 1/20\n"
     ]
    },
    {
     "ename": "ResourceExhaustedError",
     "evalue": " OOM when allocating tensor with shape[40,144,1,1] and type float on /job:localhost/replica:0/task:0/device:GPU:0 by allocator GPU_0_bfc\n\t [[node model_7/efficientnetb0/block3a_project_conv/Conv2D (defined at \\AppData\\Local\\Temp\\ipykernel_14908\\890731201.py:3) ]]\nHint: If you want to see a list of allocated tensors when OOM happens, add report_tensor_allocations_upon_oom to RunOptions for current allocation info.\n [Op:__inference_train_function_124106]\n\nFunction call stack:\ntrain_function\n",
     "output_type": "error",
     "traceback": [
      "\u001b[1;31m---------------------------------------------------------------------------\u001b[0m",
      "\u001b[1;31mResourceExhaustedError\u001b[0m                    Traceback (most recent call last)",
      "\u001b[1;32md:\\thon\\DL\\zindi_efficientnet.ipynb Cell 15'\u001b[0m in \u001b[0;36m<cell line: 3>\u001b[1;34m()\u001b[0m\n\u001b[0;32m      <a href='vscode-notebook-cell:/d%3A/thon/DL/zindi_efficientnet.ipynb#ch0000014?line=0'>1</a>\u001b[0m \u001b[39m# Train model\u001b[39;00m\n\u001b[1;32m----> <a href='vscode-notebook-cell:/d%3A/thon/DL/zindi_efficientnet.ipynb#ch0000014?line=2'>3</a>\u001b[0m history \u001b[39m=\u001b[39m model\u001b[39m.\u001b[39;49mfit(train_ds, validation_data \u001b[39m=\u001b[39;49m val_ds, epochs \u001b[39m=\u001b[39;49m \u001b[39m20\u001b[39;49m, batch_size \u001b[39m=\u001b[39;49m batch_size)\n",
      "File \u001b[1;32m~\\anaconda3\\envs\\tf\\lib\\site-packages\\tensorflow\\python\\keras\\engine\\training.py:1183\u001b[0m, in \u001b[0;36mModel.fit\u001b[1;34m(self, x, y, batch_size, epochs, verbose, callbacks, validation_split, validation_data, shuffle, class_weight, sample_weight, initial_epoch, steps_per_epoch, validation_steps, validation_batch_size, validation_freq, max_queue_size, workers, use_multiprocessing)\u001b[0m\n\u001b[0;32m   <a href='file:///c%3A/Users/sujin/anaconda3/envs/tf/lib/site-packages/tensorflow/python/keras/engine/training.py?line=1175'>1176</a>\u001b[0m \u001b[39mwith\u001b[39;00m trace\u001b[39m.\u001b[39mTrace(\n\u001b[0;32m   <a href='file:///c%3A/Users/sujin/anaconda3/envs/tf/lib/site-packages/tensorflow/python/keras/engine/training.py?line=1176'>1177</a>\u001b[0m     \u001b[39m'\u001b[39m\u001b[39mtrain\u001b[39m\u001b[39m'\u001b[39m,\n\u001b[0;32m   <a href='file:///c%3A/Users/sujin/anaconda3/envs/tf/lib/site-packages/tensorflow/python/keras/engine/training.py?line=1177'>1178</a>\u001b[0m     epoch_num\u001b[39m=\u001b[39mepoch,\n\u001b[0;32m   <a href='file:///c%3A/Users/sujin/anaconda3/envs/tf/lib/site-packages/tensorflow/python/keras/engine/training.py?line=1178'>1179</a>\u001b[0m     step_num\u001b[39m=\u001b[39mstep,\n\u001b[0;32m   <a href='file:///c%3A/Users/sujin/anaconda3/envs/tf/lib/site-packages/tensorflow/python/keras/engine/training.py?line=1179'>1180</a>\u001b[0m     batch_size\u001b[39m=\u001b[39mbatch_size,\n\u001b[0;32m   <a href='file:///c%3A/Users/sujin/anaconda3/envs/tf/lib/site-packages/tensorflow/python/keras/engine/training.py?line=1180'>1181</a>\u001b[0m     _r\u001b[39m=\u001b[39m\u001b[39m1\u001b[39m):\n\u001b[0;32m   <a href='file:///c%3A/Users/sujin/anaconda3/envs/tf/lib/site-packages/tensorflow/python/keras/engine/training.py?line=1181'>1182</a>\u001b[0m   callbacks\u001b[39m.\u001b[39mon_train_batch_begin(step)\n\u001b[1;32m-> <a href='file:///c%3A/Users/sujin/anaconda3/envs/tf/lib/site-packages/tensorflow/python/keras/engine/training.py?line=1182'>1183</a>\u001b[0m   tmp_logs \u001b[39m=\u001b[39m \u001b[39mself\u001b[39;49m\u001b[39m.\u001b[39;49mtrain_function(iterator)\n\u001b[0;32m   <a href='file:///c%3A/Users/sujin/anaconda3/envs/tf/lib/site-packages/tensorflow/python/keras/engine/training.py?line=1183'>1184</a>\u001b[0m   \u001b[39mif\u001b[39;00m data_handler\u001b[39m.\u001b[39mshould_sync:\n\u001b[0;32m   <a href='file:///c%3A/Users/sujin/anaconda3/envs/tf/lib/site-packages/tensorflow/python/keras/engine/training.py?line=1184'>1185</a>\u001b[0m     context\u001b[39m.\u001b[39masync_wait()\n",
      "File \u001b[1;32m~\\anaconda3\\envs\\tf\\lib\\site-packages\\tensorflow\\python\\eager\\def_function.py:889\u001b[0m, in \u001b[0;36mFunction.__call__\u001b[1;34m(self, *args, **kwds)\u001b[0m\n\u001b[0;32m    <a href='file:///c%3A/Users/sujin/anaconda3/envs/tf/lib/site-packages/tensorflow/python/eager/def_function.py?line=885'>886</a>\u001b[0m compiler \u001b[39m=\u001b[39m \u001b[39m\"\u001b[39m\u001b[39mxla\u001b[39m\u001b[39m\"\u001b[39m \u001b[39mif\u001b[39;00m \u001b[39mself\u001b[39m\u001b[39m.\u001b[39m_jit_compile \u001b[39melse\u001b[39;00m \u001b[39m\"\u001b[39m\u001b[39mnonXla\u001b[39m\u001b[39m\"\u001b[39m\n\u001b[0;32m    <a href='file:///c%3A/Users/sujin/anaconda3/envs/tf/lib/site-packages/tensorflow/python/eager/def_function.py?line=887'>888</a>\u001b[0m \u001b[39mwith\u001b[39;00m OptionalXlaContext(\u001b[39mself\u001b[39m\u001b[39m.\u001b[39m_jit_compile):\n\u001b[1;32m--> <a href='file:///c%3A/Users/sujin/anaconda3/envs/tf/lib/site-packages/tensorflow/python/eager/def_function.py?line=888'>889</a>\u001b[0m   result \u001b[39m=\u001b[39m \u001b[39mself\u001b[39m\u001b[39m.\u001b[39m_call(\u001b[39m*\u001b[39margs, \u001b[39m*\u001b[39m\u001b[39m*\u001b[39mkwds)\n\u001b[0;32m    <a href='file:///c%3A/Users/sujin/anaconda3/envs/tf/lib/site-packages/tensorflow/python/eager/def_function.py?line=890'>891</a>\u001b[0m new_tracing_count \u001b[39m=\u001b[39m \u001b[39mself\u001b[39m\u001b[39m.\u001b[39mexperimental_get_tracing_count()\n\u001b[0;32m    <a href='file:///c%3A/Users/sujin/anaconda3/envs/tf/lib/site-packages/tensorflow/python/eager/def_function.py?line=891'>892</a>\u001b[0m without_tracing \u001b[39m=\u001b[39m (tracing_count \u001b[39m==\u001b[39m new_tracing_count)\n",
      "File \u001b[1;32m~\\anaconda3\\envs\\tf\\lib\\site-packages\\tensorflow\\python\\eager\\def_function.py:917\u001b[0m, in \u001b[0;36mFunction._call\u001b[1;34m(self, *args, **kwds)\u001b[0m\n\u001b[0;32m    <a href='file:///c%3A/Users/sujin/anaconda3/envs/tf/lib/site-packages/tensorflow/python/eager/def_function.py?line=913'>914</a>\u001b[0m   \u001b[39mself\u001b[39m\u001b[39m.\u001b[39m_lock\u001b[39m.\u001b[39mrelease()\n\u001b[0;32m    <a href='file:///c%3A/Users/sujin/anaconda3/envs/tf/lib/site-packages/tensorflow/python/eager/def_function.py?line=914'>915</a>\u001b[0m   \u001b[39m# In this case we have created variables on the first call, so we run the\u001b[39;00m\n\u001b[0;32m    <a href='file:///c%3A/Users/sujin/anaconda3/envs/tf/lib/site-packages/tensorflow/python/eager/def_function.py?line=915'>916</a>\u001b[0m   \u001b[39m# defunned version which is guaranteed to never create variables.\u001b[39;00m\n\u001b[1;32m--> <a href='file:///c%3A/Users/sujin/anaconda3/envs/tf/lib/site-packages/tensorflow/python/eager/def_function.py?line=916'>917</a>\u001b[0m   \u001b[39mreturn\u001b[39;00m \u001b[39mself\u001b[39m\u001b[39m.\u001b[39m_stateless_fn(\u001b[39m*\u001b[39margs, \u001b[39m*\u001b[39m\u001b[39m*\u001b[39mkwds)  \u001b[39m# pylint: disable=not-callable\u001b[39;00m\n\u001b[0;32m    <a href='file:///c%3A/Users/sujin/anaconda3/envs/tf/lib/site-packages/tensorflow/python/eager/def_function.py?line=917'>918</a>\u001b[0m \u001b[39melif\u001b[39;00m \u001b[39mself\u001b[39m\u001b[39m.\u001b[39m_stateful_fn \u001b[39mis\u001b[39;00m \u001b[39mnot\u001b[39;00m \u001b[39mNone\u001b[39;00m:\n\u001b[0;32m    <a href='file:///c%3A/Users/sujin/anaconda3/envs/tf/lib/site-packages/tensorflow/python/eager/def_function.py?line=918'>919</a>\u001b[0m   \u001b[39m# Release the lock early so that multiple threads can perform the call\u001b[39;00m\n\u001b[0;32m    <a href='file:///c%3A/Users/sujin/anaconda3/envs/tf/lib/site-packages/tensorflow/python/eager/def_function.py?line=919'>920</a>\u001b[0m   \u001b[39m# in parallel.\u001b[39;00m\n\u001b[0;32m    <a href='file:///c%3A/Users/sujin/anaconda3/envs/tf/lib/site-packages/tensorflow/python/eager/def_function.py?line=920'>921</a>\u001b[0m   \u001b[39mself\u001b[39m\u001b[39m.\u001b[39m_lock\u001b[39m.\u001b[39mrelease()\n",
      "File \u001b[1;32m~\\anaconda3\\envs\\tf\\lib\\site-packages\\tensorflow\\python\\eager\\function.py:3023\u001b[0m, in \u001b[0;36mFunction.__call__\u001b[1;34m(self, *args, **kwargs)\u001b[0m\n\u001b[0;32m   <a href='file:///c%3A/Users/sujin/anaconda3/envs/tf/lib/site-packages/tensorflow/python/eager/function.py?line=3019'>3020</a>\u001b[0m \u001b[39mwith\u001b[39;00m \u001b[39mself\u001b[39m\u001b[39m.\u001b[39m_lock:\n\u001b[0;32m   <a href='file:///c%3A/Users/sujin/anaconda3/envs/tf/lib/site-packages/tensorflow/python/eager/function.py?line=3020'>3021</a>\u001b[0m   (graph_function,\n\u001b[0;32m   <a href='file:///c%3A/Users/sujin/anaconda3/envs/tf/lib/site-packages/tensorflow/python/eager/function.py?line=3021'>3022</a>\u001b[0m    filtered_flat_args) \u001b[39m=\u001b[39m \u001b[39mself\u001b[39m\u001b[39m.\u001b[39m_maybe_define_function(args, kwargs)\n\u001b[1;32m-> <a href='file:///c%3A/Users/sujin/anaconda3/envs/tf/lib/site-packages/tensorflow/python/eager/function.py?line=3022'>3023</a>\u001b[0m \u001b[39mreturn\u001b[39;00m graph_function\u001b[39m.\u001b[39;49m_call_flat(\n\u001b[0;32m   <a href='file:///c%3A/Users/sujin/anaconda3/envs/tf/lib/site-packages/tensorflow/python/eager/function.py?line=3023'>3024</a>\u001b[0m     filtered_flat_args, captured_inputs\u001b[39m=\u001b[39;49mgraph_function\u001b[39m.\u001b[39;49mcaptured_inputs)\n",
      "File \u001b[1;32m~\\anaconda3\\envs\\tf\\lib\\site-packages\\tensorflow\\python\\eager\\function.py:1960\u001b[0m, in \u001b[0;36mConcreteFunction._call_flat\u001b[1;34m(self, args, captured_inputs, cancellation_manager)\u001b[0m\n\u001b[0;32m   <a href='file:///c%3A/Users/sujin/anaconda3/envs/tf/lib/site-packages/tensorflow/python/eager/function.py?line=1955'>1956</a>\u001b[0m possible_gradient_type \u001b[39m=\u001b[39m gradients_util\u001b[39m.\u001b[39mPossibleTapeGradientTypes(args)\n\u001b[0;32m   <a href='file:///c%3A/Users/sujin/anaconda3/envs/tf/lib/site-packages/tensorflow/python/eager/function.py?line=1956'>1957</a>\u001b[0m \u001b[39mif\u001b[39;00m (possible_gradient_type \u001b[39m==\u001b[39m gradients_util\u001b[39m.\u001b[39mPOSSIBLE_GRADIENT_TYPES_NONE\n\u001b[0;32m   <a href='file:///c%3A/Users/sujin/anaconda3/envs/tf/lib/site-packages/tensorflow/python/eager/function.py?line=1957'>1958</a>\u001b[0m     \u001b[39mand\u001b[39;00m executing_eagerly):\n\u001b[0;32m   <a href='file:///c%3A/Users/sujin/anaconda3/envs/tf/lib/site-packages/tensorflow/python/eager/function.py?line=1958'>1959</a>\u001b[0m   \u001b[39m# No tape is watching; skip to running the function.\u001b[39;00m\n\u001b[1;32m-> <a href='file:///c%3A/Users/sujin/anaconda3/envs/tf/lib/site-packages/tensorflow/python/eager/function.py?line=1959'>1960</a>\u001b[0m   \u001b[39mreturn\u001b[39;00m \u001b[39mself\u001b[39m\u001b[39m.\u001b[39m_build_call_outputs(\u001b[39mself\u001b[39;49m\u001b[39m.\u001b[39;49m_inference_function\u001b[39m.\u001b[39;49mcall(\n\u001b[0;32m   <a href='file:///c%3A/Users/sujin/anaconda3/envs/tf/lib/site-packages/tensorflow/python/eager/function.py?line=1960'>1961</a>\u001b[0m       ctx, args, cancellation_manager\u001b[39m=\u001b[39;49mcancellation_manager))\n\u001b[0;32m   <a href='file:///c%3A/Users/sujin/anaconda3/envs/tf/lib/site-packages/tensorflow/python/eager/function.py?line=1961'>1962</a>\u001b[0m forward_backward \u001b[39m=\u001b[39m \u001b[39mself\u001b[39m\u001b[39m.\u001b[39m_select_forward_and_backward_functions(\n\u001b[0;32m   <a href='file:///c%3A/Users/sujin/anaconda3/envs/tf/lib/site-packages/tensorflow/python/eager/function.py?line=1962'>1963</a>\u001b[0m     args,\n\u001b[0;32m   <a href='file:///c%3A/Users/sujin/anaconda3/envs/tf/lib/site-packages/tensorflow/python/eager/function.py?line=1963'>1964</a>\u001b[0m     possible_gradient_type,\n\u001b[0;32m   <a href='file:///c%3A/Users/sujin/anaconda3/envs/tf/lib/site-packages/tensorflow/python/eager/function.py?line=1964'>1965</a>\u001b[0m     executing_eagerly)\n\u001b[0;32m   <a href='file:///c%3A/Users/sujin/anaconda3/envs/tf/lib/site-packages/tensorflow/python/eager/function.py?line=1965'>1966</a>\u001b[0m forward_function, args_with_tangents \u001b[39m=\u001b[39m forward_backward\u001b[39m.\u001b[39mforward()\n",
      "File \u001b[1;32m~\\anaconda3\\envs\\tf\\lib\\site-packages\\tensorflow\\python\\eager\\function.py:591\u001b[0m, in \u001b[0;36m_EagerDefinedFunction.call\u001b[1;34m(self, ctx, args, cancellation_manager)\u001b[0m\n\u001b[0;32m    <a href='file:///c%3A/Users/sujin/anaconda3/envs/tf/lib/site-packages/tensorflow/python/eager/function.py?line=588'>589</a>\u001b[0m \u001b[39mwith\u001b[39;00m _InterpolateFunctionError(\u001b[39mself\u001b[39m):\n\u001b[0;32m    <a href='file:///c%3A/Users/sujin/anaconda3/envs/tf/lib/site-packages/tensorflow/python/eager/function.py?line=589'>590</a>\u001b[0m   \u001b[39mif\u001b[39;00m cancellation_manager \u001b[39mis\u001b[39;00m \u001b[39mNone\u001b[39;00m:\n\u001b[1;32m--> <a href='file:///c%3A/Users/sujin/anaconda3/envs/tf/lib/site-packages/tensorflow/python/eager/function.py?line=590'>591</a>\u001b[0m     outputs \u001b[39m=\u001b[39m execute\u001b[39m.\u001b[39;49mexecute(\n\u001b[0;32m    <a href='file:///c%3A/Users/sujin/anaconda3/envs/tf/lib/site-packages/tensorflow/python/eager/function.py?line=591'>592</a>\u001b[0m         \u001b[39mstr\u001b[39;49m(\u001b[39mself\u001b[39;49m\u001b[39m.\u001b[39;49msignature\u001b[39m.\u001b[39;49mname),\n\u001b[0;32m    <a href='file:///c%3A/Users/sujin/anaconda3/envs/tf/lib/site-packages/tensorflow/python/eager/function.py?line=592'>593</a>\u001b[0m         num_outputs\u001b[39m=\u001b[39;49m\u001b[39mself\u001b[39;49m\u001b[39m.\u001b[39;49m_num_outputs,\n\u001b[0;32m    <a href='file:///c%3A/Users/sujin/anaconda3/envs/tf/lib/site-packages/tensorflow/python/eager/function.py?line=593'>594</a>\u001b[0m         inputs\u001b[39m=\u001b[39;49margs,\n\u001b[0;32m    <a href='file:///c%3A/Users/sujin/anaconda3/envs/tf/lib/site-packages/tensorflow/python/eager/function.py?line=594'>595</a>\u001b[0m         attrs\u001b[39m=\u001b[39;49mattrs,\n\u001b[0;32m    <a href='file:///c%3A/Users/sujin/anaconda3/envs/tf/lib/site-packages/tensorflow/python/eager/function.py?line=595'>596</a>\u001b[0m         ctx\u001b[39m=\u001b[39;49mctx)\n\u001b[0;32m    <a href='file:///c%3A/Users/sujin/anaconda3/envs/tf/lib/site-packages/tensorflow/python/eager/function.py?line=596'>597</a>\u001b[0m   \u001b[39melse\u001b[39;00m:\n\u001b[0;32m    <a href='file:///c%3A/Users/sujin/anaconda3/envs/tf/lib/site-packages/tensorflow/python/eager/function.py?line=597'>598</a>\u001b[0m     outputs \u001b[39m=\u001b[39m execute\u001b[39m.\u001b[39mexecute_with_cancellation(\n\u001b[0;32m    <a href='file:///c%3A/Users/sujin/anaconda3/envs/tf/lib/site-packages/tensorflow/python/eager/function.py?line=598'>599</a>\u001b[0m         \u001b[39mstr\u001b[39m(\u001b[39mself\u001b[39m\u001b[39m.\u001b[39msignature\u001b[39m.\u001b[39mname),\n\u001b[0;32m    <a href='file:///c%3A/Users/sujin/anaconda3/envs/tf/lib/site-packages/tensorflow/python/eager/function.py?line=599'>600</a>\u001b[0m         num_outputs\u001b[39m=\u001b[39m\u001b[39mself\u001b[39m\u001b[39m.\u001b[39m_num_outputs,\n\u001b[1;32m   (...)\u001b[0m\n\u001b[0;32m    <a href='file:///c%3A/Users/sujin/anaconda3/envs/tf/lib/site-packages/tensorflow/python/eager/function.py?line=602'>603</a>\u001b[0m         ctx\u001b[39m=\u001b[39mctx,\n\u001b[0;32m    <a href='file:///c%3A/Users/sujin/anaconda3/envs/tf/lib/site-packages/tensorflow/python/eager/function.py?line=603'>604</a>\u001b[0m         cancellation_manager\u001b[39m=\u001b[39mcancellation_manager)\n",
      "File \u001b[1;32m~\\anaconda3\\envs\\tf\\lib\\site-packages\\tensorflow\\python\\eager\\execute.py:59\u001b[0m, in \u001b[0;36mquick_execute\u001b[1;34m(op_name, num_outputs, inputs, attrs, ctx, name)\u001b[0m\n\u001b[0;32m     <a href='file:///c%3A/Users/sujin/anaconda3/envs/tf/lib/site-packages/tensorflow/python/eager/execute.py?line=56'>57</a>\u001b[0m \u001b[39mtry\u001b[39;00m:\n\u001b[0;32m     <a href='file:///c%3A/Users/sujin/anaconda3/envs/tf/lib/site-packages/tensorflow/python/eager/execute.py?line=57'>58</a>\u001b[0m   ctx\u001b[39m.\u001b[39mensure_initialized()\n\u001b[1;32m---> <a href='file:///c%3A/Users/sujin/anaconda3/envs/tf/lib/site-packages/tensorflow/python/eager/execute.py?line=58'>59</a>\u001b[0m   tensors \u001b[39m=\u001b[39m pywrap_tfe\u001b[39m.\u001b[39;49mTFE_Py_Execute(ctx\u001b[39m.\u001b[39;49m_handle, device_name, op_name,\n\u001b[0;32m     <a href='file:///c%3A/Users/sujin/anaconda3/envs/tf/lib/site-packages/tensorflow/python/eager/execute.py?line=59'>60</a>\u001b[0m                                       inputs, attrs, num_outputs)\n\u001b[0;32m     <a href='file:///c%3A/Users/sujin/anaconda3/envs/tf/lib/site-packages/tensorflow/python/eager/execute.py?line=60'>61</a>\u001b[0m \u001b[39mexcept\u001b[39;00m core\u001b[39m.\u001b[39m_NotOkStatusException \u001b[39mas\u001b[39;00m e:\n\u001b[0;32m     <a href='file:///c%3A/Users/sujin/anaconda3/envs/tf/lib/site-packages/tensorflow/python/eager/execute.py?line=61'>62</a>\u001b[0m   \u001b[39mif\u001b[39;00m name \u001b[39mis\u001b[39;00m \u001b[39mnot\u001b[39;00m \u001b[39mNone\u001b[39;00m:\n",
      "\u001b[1;31mResourceExhaustedError\u001b[0m:  OOM when allocating tensor with shape[40,144,1,1] and type float on /job:localhost/replica:0/task:0/device:GPU:0 by allocator GPU_0_bfc\n\t [[node model_7/efficientnetb0/block3a_project_conv/Conv2D (defined at \\AppData\\Local\\Temp\\ipykernel_14908\\890731201.py:3) ]]\nHint: If you want to see a list of allocated tensors when OOM happens, add report_tensor_allocations_upon_oom to RunOptions for current allocation info.\n [Op:__inference_train_function_124106]\n\nFunction call stack:\ntrain_function\n"
     ]
    }
   ],
   "source": [
    "# Train model\n",
    "\n",
    "history = model.fit(train_ds, validation_data = val_ds, epochs = 20, batch_size = batch_size)"
   ]
  },
  {
   "cell_type": "code",
   "execution_count": 42,
   "metadata": {},
   "outputs": [
    {
     "data": {
      "image/png": "[encoded data removed]",
      "text/plain": [
       "<Figure size 432x288 with 1 Axes>"
      ]
     },
     "metadata": {
      "needs_background": "light"
     },
     "output_type": "display_data"
    }
   ],
   "source": [
    "# Visualize validation loss and accuracy loss\n",
    "\n",
    "history_dict = history.history\n",
    "loss_values = history_dict[\"loss\"]\n",
    "val_loss_values = history_dict[\"val_loss\"]\n",
    "epochs = range(1, len(loss_values) + 1)\n",
    "plt.plot(epochs, loss_values, \"bo\", label = \"Training loss\")\n",
    "plt.plot(epochs, val_loss_values, \"b\", label = \"Validation loss\")\n",
    "plt.title(\"Training and validation loss\")\n",
    "plt.xlabel(\"Epochs\")\n",
    "plt.ylabel(\"Loss\")\n",
    "plt.legend()\n",
    "plt.show()"
   ]
  },
  {
   "cell_type": "markdown",
   "metadata": {},
   "source": [
    "# To find the best model"
   ]
  },
  {
   "cell_type": "code",
   "execution_count": 45,
   "metadata": {},
   "outputs": [
    {
     "name": "stdout",
     "output_type": "stream",
     "text": [
      "Epoch 1/50\n",
      "41/41 [==============================] - 5s 95ms/step - loss: 0.6567 - auc: 0.6537 - val_loss: 0.6228 - val_auc: 0.8502\n",
      "Epoch 2/50\n",
      "41/41 [==============================] - 4s 91ms/step - loss: 0.5060 - auc: 0.8363 - val_loss: 0.4167 - val_auc: 0.8943\n",
      "Epoch 3/50\n",
      "41/41 [==============================] - 4s 91ms/step - loss: 0.4145 - auc: 0.8975 - val_loss: 0.3216 - val_auc: 0.9382\n",
      "Epoch 4/50\n",
      "41/41 [==============================] - 4s 92ms/step - loss: 0.2874 - auc: 0.9493 - val_loss: 0.2627 - val_auc: 0.9662\n",
      "Epoch 5/50\n",
      "41/41 [==============================] - 4s 91ms/step - loss: 0.2172 - auc: 0.9709 - val_loss: 0.2686 - val_auc: 0.9531\n",
      "Epoch 6/50\n",
      "41/41 [==============================] - 4s 90ms/step - loss: 0.1767 - auc: 0.9805 - val_loss: 0.1984 - val_auc: 0.9843\n",
      "Epoch 7/50\n",
      "41/41 [==============================] - 4s 91ms/step - loss: 0.1405 - auc: 0.9871 - val_loss: 0.1855 - val_auc: 0.9794\n",
      "Epoch 8/50\n",
      "41/41 [==============================] - 4s 91ms/step - loss: 0.1104 - auc: 0.9928 - val_loss: 0.1548 - val_auc: 0.9885\n",
      "Epoch 9/50\n",
      "41/41 [==============================] - 4s 91ms/step - loss: 0.0772 - auc: 0.9959 - val_loss: 0.1604 - val_auc: 0.9876\n",
      "Epoch 10/50\n",
      "41/41 [==============================] - 4s 91ms/step - loss: 0.0770 - auc: 0.9967 - val_loss: 0.1489 - val_auc: 0.9875\n",
      "Epoch 11/50\n",
      "41/41 [==============================] - 4s 91ms/step - loss: 0.0476 - auc: 0.9988 - val_loss: 0.1702 - val_auc: 0.9850\n",
      "Epoch 12/50\n",
      "41/41 [==============================] - 4s 91ms/step - loss: 0.0646 - auc: 0.9976 - val_loss: 0.1706 - val_auc: 0.9867\n",
      "Epoch 13/50\n",
      "41/41 [==============================] - 4s 90ms/step - loss: 0.0270 - auc: 0.9997 - val_loss: 0.1537 - val_auc: 0.9869\n",
      "Epoch 14/50\n",
      "41/41 [==============================] - 4s 91ms/step - loss: 0.0178 - auc: 0.9999 - val_loss: 0.1762 - val_auc: 0.9847\n",
      "Epoch 15/50\n",
      "41/41 [==============================] - 4s 90ms/step - loss: 0.0083 - auc: 1.0000 - val_loss: 0.2074 - val_auc: 0.9789\n",
      "Epoch 16/50\n",
      "41/41 [==============================] - 4s 91ms/step - loss: 0.0332 - auc: 0.9993 - val_loss: 0.1966 - val_auc: 0.9789\n",
      "Epoch 17/50\n",
      "41/41 [==============================] - 4s 92ms/step - loss: 0.0094 - auc: 1.0000 - val_loss: 0.1962 - val_auc: 0.9808\n",
      "Epoch 18/50\n",
      "41/41 [==============================] - 4s 93ms/step - loss: 0.0031 - auc: 1.0000 - val_loss: 0.2345 - val_auc: 0.9750\n",
      "Epoch 19/50\n",
      "41/41 [==============================] - 4s 91ms/step - loss: 8.1195e-04 - auc: 1.0000 - val_loss: 0.2372 - val_auc: 0.9781\n",
      "Epoch 20/50\n",
      "41/41 [==============================] - 4s 92ms/step - loss: 4.8156e-04 - auc: 1.0000 - val_loss: 0.2527 - val_auc: 0.9778\n",
      "Epoch 21/50\n",
      "41/41 [==============================] - 4s 92ms/step - loss: 2.5683e-04 - auc: 1.0000 - val_loss: 0.2509 - val_auc: 0.9783\n",
      "Epoch 22/50\n",
      "41/41 [==============================] - 4s 94ms/step - loss: 1.9915e-04 - auc: 1.0000 - val_loss: 0.2589 - val_auc: 0.9760\n",
      "Epoch 23/50\n",
      "41/41 [==============================] - 4s 96ms/step - loss: 1.5207e-04 - auc: 1.0000 - val_loss: 0.2663 - val_auc: 0.9735\n",
      "Epoch 24/50\n",
      "41/41 [==============================] - 4s 92ms/step - loss: 1.1980e-04 - auc: 1.0000 - val_loss: 0.2739 - val_auc: 0.9735\n",
      "Epoch 25/50\n",
      "41/41 [==============================] - 4s 90ms/step - loss: 9.7082e-05 - auc: 1.0000 - val_loss: 0.2834 - val_auc: 0.9734\n",
      "Epoch 26/50\n",
      "41/41 [==============================] - 4s 91ms/step - loss: 8.1829e-05 - auc: 1.0000 - val_loss: 0.2933 - val_auc: 0.9736\n",
      "Epoch 27/50\n",
      "41/41 [==============================] - 4s 90ms/step - loss: 6.8242e-05 - auc: 1.0000 - val_loss: 0.2964 - val_auc: 0.9706\n",
      "Epoch 28/50\n",
      "41/41 [==============================] - 4s 90ms/step - loss: 5.7005e-05 - auc: 1.0000 - val_loss: 0.3092 - val_auc: 0.9738\n",
      "Epoch 29/50\n",
      "41/41 [==============================] - 4s 91ms/step - loss: 5.3676e-05 - auc: 1.0000 - val_loss: 0.3099 - val_auc: 0.9709\n",
      "Epoch 30/50\n",
      "41/41 [==============================] - 4s 91ms/step - loss: 4.3339e-05 - auc: 1.0000 - val_loss: 0.3207 - val_auc: 0.9712\n",
      "Epoch 31/50\n",
      "41/41 [==============================] - 4s 91ms/step - loss: 4.4777e-05 - auc: 1.0000 - val_loss: 0.3237 - val_auc: 0.9711\n",
      "Epoch 32/50\n",
      "41/41 [==============================] - 4s 90ms/step - loss: 3.6875e-05 - auc: 1.0000 - val_loss: 0.3334 - val_auc: 0.9711\n",
      "Epoch 33/50\n",
      "41/41 [==============================] - 4s 93ms/step - loss: 3.7643e-05 - auc: 1.0000 - val_loss: 0.3310 - val_auc: 0.9711\n",
      "Epoch 34/50\n",
      "41/41 [==============================] - 4s 94ms/step - loss: 2.9721e-05 - auc: 1.0000 - val_loss: 0.3356 - val_auc: 0.9711\n",
      "Epoch 35/50\n",
      "41/41 [==============================] - 4s 92ms/step - loss: 2.5816e-05 - auc: 1.0000 - val_loss: 0.3368 - val_auc: 0.9711\n",
      "Epoch 36/50\n",
      "41/41 [==============================] - 4s 95ms/step - loss: 2.2278e-05 - auc: 1.0000 - val_loss: 0.3476 - val_auc: 0.9686\n",
      "Epoch 37/50\n",
      "41/41 [==============================] - 4s 92ms/step - loss: 2.1186e-05 - auc: 1.0000 - val_loss: 0.3517 - val_auc: 0.9712\n",
      "Epoch 38/50\n",
      "41/41 [==============================] - 4s 91ms/step - loss: 1.8822e-05 - auc: 1.0000 - val_loss: 0.3552 - val_auc: 0.9686\n",
      "Epoch 39/50\n",
      "41/41 [==============================] - 4s 91ms/step - loss: 1.6891e-05 - auc: 1.0000 - val_loss: 0.3603 - val_auc: 0.9686\n",
      "Epoch 40/50\n",
      "41/41 [==============================] - 4s 91ms/step - loss: 1.5348e-05 - auc: 1.0000 - val_loss: 0.3659 - val_auc: 0.9686\n",
      "Epoch 41/50\n",
      "41/41 [==============================] - 4s 90ms/step - loss: 1.4932e-05 - auc: 1.0000 - val_loss: 0.3721 - val_auc: 0.9658\n",
      "Epoch 42/50\n",
      "41/41 [==============================] - 4s 91ms/step - loss: 1.4576e-05 - auc: 1.0000 - val_loss: 0.3694 - val_auc: 0.9686\n",
      "Epoch 43/50\n",
      "41/41 [==============================] - 4s 91ms/step - loss: 1.1574e-05 - auc: 1.0000 - val_loss: 0.3747 - val_auc: 0.9686\n",
      "Epoch 44/50\n",
      "41/41 [==============================] - 4s 91ms/step - loss: 1.0128e-05 - auc: 1.0000 - val_loss: 0.3828 - val_auc: 0.9659\n",
      "Epoch 45/50\n",
      "41/41 [==============================] - 4s 92ms/step - loss: 9.9060e-06 - auc: 1.0000 - val_loss: 0.3752 - val_auc: 0.9686\n",
      "Epoch 46/50\n",
      "41/41 [==============================] - 4s 91ms/step - loss: 9.0840e-06 - auc: 1.0000 - val_loss: 0.3897 - val_auc: 0.9658\n",
      "Epoch 47/50\n",
      "41/41 [==============================] - 4s 93ms/step - loss: 8.2325e-06 - auc: 1.0000 - val_loss: 0.3937 - val_auc: 0.9659\n",
      "Epoch 48/50\n",
      "41/41 [==============================] - 4s 92ms/step - loss: 7.3322e-06 - auc: 1.0000 - val_loss: 0.3946 - val_auc: 0.9659\n",
      "Epoch 49/50\n",
      "41/41 [==============================] - 4s 92ms/step - loss: 6.3875e-06 - auc: 1.0000 - val_loss: 0.4034 - val_auc: 0.9661\n",
      "Epoch 50/50\n",
      "41/41 [==============================] - 4s 90ms/step - loss: 5.8387e-06 - auc: 1.0000 - val_loss: 0.4148 - val_auc: 0.9634\n"
     ]
    }
   ],
   "source": [
    "callbacks = [\n",
    "    keras.callbacks.ModelCheckpoint(\n",
    "        filepath = \"convnet.keras\", # Save the best model as 'convnet.kears'\n",
    "        save_best_only = True,\n",
    "        monitor = \"val_loss\")\n",
    "]\n",
    "\n",
    "history_test = model.fit(\n",
    "    train_ds,\n",
    "    epochs = 50,\n",
    "    validation_data = val_ds,\n",
    "    callbacks = callbacks)"
   ]
  },
  {
   "cell_type": "code",
   "execution_count": 46,
   "metadata": {},
   "outputs": [
    {
     "data": {
      "text/html": [
       "<div>\n",
       "<style scoped>\n",
       "    .dataframe tbody tr th:only-of-type {\n",
       "        vertical-align: middle;\n",
       "    }\n",
       "\n",
       "    .dataframe tbody tr th {\n",
       "        vertical-align: top;\n",
       "    }\n",
       "\n",
       "    .dataframe thead th {\n",
       "        text-align: right;\n",
       "    }\n",
       "</style>\n",
       "<table border=\"1\" class=\"dataframe\">\n",
       "  <thead>\n",
       "    <tr style=\"text-align: right;\">\n",
       "      <th></th>\n",
       "      <th>Image_id</th>\n",
       "      <th>Label</th>\n",
       "    </tr>\n",
       "  </thead>\n",
       "  <tbody>\n",
       "    <tr>\n",
       "      <th>0</th>\n",
       "      <td>id_00exusbkgzw1b.jpg</td>\n",
       "      <td>0</td>\n",
       "    </tr>\n",
       "    <tr>\n",
       "      <th>1</th>\n",
       "      <td>id_03dqinf6w0znv.jpg</td>\n",
       "      <td>0</td>\n",
       "    </tr>\n",
       "    <tr>\n",
       "      <th>2</th>\n",
       "      <td>id_046yl0cxn3ybz.jpg</td>\n",
       "      <td>1</td>\n",
       "    </tr>\n",
       "    <tr>\n",
       "      <th>3</th>\n",
       "      <td>id_04athdtx2abyg.jpg</td>\n",
       "      <td>0</td>\n",
       "    </tr>\n",
       "    <tr>\n",
       "      <th>4</th>\n",
       "      <td>id_062aauf9e9jk0.jpg</td>\n",
       "      <td>0</td>\n",
       "    </tr>\n",
       "  </tbody>\n",
       "</table>\n",
       "</div>"
      ],
      "text/plain": [
       "               Image_id  Label\n",
       "0  id_00exusbkgzw1b.jpg      0\n",
       "1  id_03dqinf6w0znv.jpg      0\n",
       "2  id_046yl0cxn3ybz.jpg      1\n",
       "3  id_04athdtx2abyg.jpg      0\n",
       "4  id_062aauf9e9jk0.jpg      0"
      ]
     },
     "execution_count": 46,
     "metadata": {},
     "output_type": "execute_result"
    }
   ],
   "source": [
    "# Fit the best model\n",
    "\n",
    "test_model = keras.models.load_model(\"convnet.keras\") # load the best model which we defined \"convnet.keras\"\n",
    "\n",
    "predictions = test_model.predict(test_ds)\n",
    "prediction_classes = [\n",
    "    1 if prob > 0.5 else 0 for prob in np.ravel(predictions)\n",
    "]\n",
    "\n",
    "sample_sub[\"Label\"] = prediction_classes\n",
    "sample_sub.head()"
   ]
  },
  {
   "cell_type": "code",
   "execution_count": 47,
   "metadata": {},
   "outputs": [],
   "source": [
    "# Save csv file\n",
    "\n",
    "sample_sub.to_csv(\"Submission.csv\", index = False)"
   ]
  }
 ],
 "metadata": {
  "interpreter": {
   "hash": "453dee3dc3901cb9a21ed0866384fb1d6a0d6f4710a79aa791e402cd59be06a2"
  },
  "kernelspec": {
   "display_name": "Python 3.9.7 ('tf')",
   "language": "python",
   "name": "python3"
  },
  "language_info": {
   "codemirror_mode": {
    "name": "ipython",
    "version": 3
   },
   "file_extension": ".py",
   "mimetype": "text/x-python",
   "name": "python",
   "nbconvert_exporter": "python",
   "pygments_lexer": "ipython3",
   "version": "3.9.7"
  },
  "orig_nbformat": 4
 },
 "nbformat": 4,
 "nbformat_minor": 2
}
