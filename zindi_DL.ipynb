{
 "cells": [
  {
   "cell_type": "markdown",
   "metadata": {},
   "source": [
    "# Zindi Image classification (Binary)"
   ]
  },
  {
   "cell_type": "code",
   "execution_count": 2,
   "metadata": {},
   "outputs": [],
   "source": [
    "# Import packages\n",
    "\n",
    "import numpy as np\n",
    "import pandas as pd\n",
    "import matplotlib.pyplot as plt\n",
    "import matplotlib.image as img\n",
    "from tqdm import tqdm   # to see process status bar\n",
    "import os  # to generate new directories\n",
    "import glob # to gather jpg files\n",
    "from glob import glob\n",
    "import shutil  # to move files\n",
    "\n",
    "import tensorflow as tf"
   ]
  },
  {
   "cell_type": "code",
   "execution_count": 4,
   "metadata": {},
   "outputs": [
    {
     "name": "stdout",
     "output_type": "stream",
     "text": [
      "               Image_id  Label\n",
      "0  id_02amazy34fgh2.jpg      1\n",
      "1  id_02mh3w48pmyc9.jpg      0\n",
      "2  id_02rpb463h9d3w.jpg      0\n",
      "3  id_02wc3jeeao8ol.jpg      1\n",
      "4  id_03t2hapb8wz8p.jpg      1\n",
      "\n",
      "\n",
      "               Image_id\n",
      "0  id_00exusbkgzw1b.jpg\n",
      "1  id_03dqinf6w0znv.jpg\n",
      "2  id_046yl0cxn3ybz.jpg\n",
      "3  id_04athdtx2abyg.jpg\n",
      "4  id_062aauf9e9jk0.jpg\n",
      "\n",
      "\n",
      "               Image_id  Label\n",
      "0  id_00exusbkgzw1b.jpg      0\n",
      "1  id_03dqinf6w0znv.jpg      0\n",
      "2  id_046yl0cxn3ybz.jpg      0\n",
      "3  id_04athdtx2abyg.jpg      0\n",
      "4  id_062aauf9e9jk0.jpg      0\n"
     ]
    }
   ],
   "source": [
    "# Input your file directory\n",
    "\n",
    "file_dir = 'D:/thon/DL/zindi' # Change here with your file directory\n",
    "\n",
    "# Read train, test and submission csv files\n",
    "\n",
    "train_df = pd.read_csv(file_dir + '/Train.csv')\n",
    "test_df = pd.read_csv(file_dir + '/Test.csv')\n",
    "sample_sub = pd.read_csv(file_dir + '/SampleSubmission.csv')\n",
    "\n",
    "print(train_df.head())\n",
    "print('\\n')\n",
    "print(test_df.head())\n",
    "print('\\n')\n",
    "print(sample_sub.head())"
   ]
  },
  {
   "cell_type": "markdown",
   "metadata": {},
   "source": [
    "# Check shape of image, since each image has different shape"
   ]
  },
  {
   "cell_type": "code",
   "execution_count": 6,
   "metadata": {},
   "outputs": [
    {
     "name": "stderr",
     "output_type": "stream",
     "text": [
      "100%|██████████| 1619/1619 [00:22<00:00, 72.64it/s]\n",
      "100%|██████████| 1080/1080 [00:14<00:00, 75.18it/s]"
     ]
    },
    {
     "name": "stdout",
     "output_type": "stream",
     "text": [
      "width   height  channel\n",
      "1024.0  768.0   3.0        526\n",
      "        1024.0  3.0        431\n",
      "        765.0   3.0        237\n",
      "        498.0   3.0        146\n",
      "768.0   1024.0  3.0        110\n",
      "3200.0  2000.0  3.0         59\n",
      "1024.0  640.0   3.0         44\n",
      "498.0   1024.0  3.0         43\n",
      "765.0   1024.0  3.0         18\n",
      "2000.0  3200.0  3.0          3\n",
      "640.0   1024.0  3.0          2\n",
      "dtype: int64\n",
      "\n",
      "\n",
      "width   height  channel\n",
      "1024.0  768.0   3.0        379\n",
      "        1024.0  3.0        263\n",
      "        765.0   3.0        161\n",
      "        498.0   3.0        113\n",
      "768.0   1024.0  3.0         73\n",
      "3200.0  2000.0  3.0         33\n",
      "1024.0  640.0   3.0         21\n",
      "498.0   1024.0  3.0         18\n",
      "765.0   1024.0  3.0         14\n",
      "2000.0  3200.0  3.0          4\n",
      "640.0   1024.0  3.0          1\n",
      "dtype: int64\n"
     ]
    },
    {
     "name": "stderr",
     "output_type": "stream",
     "text": [
      "\n"
     ]
    }
   ],
   "source": [
    "### To check the shape of whole images\n",
    "\n",
    "train_df['width'] = np.nan\n",
    "train_df['height'] = np.nan\n",
    "train_df['channel'] = np.nan\n",
    "\n",
    "test_df['width'] = np.nan\n",
    "test_df['height'] = np.nan\n",
    "test_df['channel'] = np.nan\n",
    "\n",
    "\n",
    "# Set image directory\n",
    "\n",
    "img_dir = file_dir + '/Images'\n",
    "\n",
    "# To check train images' shape\n",
    "\n",
    "for i in tqdm(range(len(train_df))):\n",
    "  image = img.imread(img_dir + '/' + train_df['Image_id'].loc[i])\n",
    "  w, h, c = image.shape\n",
    "  train_df.loc[i, 'width'] = w\n",
    "  train_df.loc[i, 'height'] = h\n",
    "  train_df.loc[i, 'channel'] = c\n",
    "\n",
    "# To check test images' shape\n",
    "\n",
    "for i in tqdm(range(len(test_df))):\n",
    "  image = img.imread(img_dir + '/' + test_df['Image_id'].loc[i])\n",
    "  w, h, c = image.shape\n",
    "  test_df.loc[i, 'width'] = w\n",
    "  test_df.loc[i, 'height'] = h\n",
    "  test_df.loc[i, 'channel'] = c\n",
    "\n",
    "\n",
    "# Train image's shape\n",
    "\n",
    "print(train_df[['width', 'height', 'channel']].value_counts())\n",
    "print('\\n')\n",
    "\n",
    "# Test images' shape\n",
    "\n",
    "print(test_df[['width', 'height', 'channel']].value_counts())"
   ]
  },
  {
   "cell_type": "markdown",
   "metadata": {},
   "source": [
    "# Managing Image directories and files"
   ]
  },
  {
   "cell_type": "markdown",
   "metadata": {},
   "source": [
    "## You don't need to do it twice"
   ]
  },
  {
   "cell_type": "code",
   "execution_count": 7,
   "metadata": {},
   "outputs": [],
   "source": [
    "### You don't need to do it twice\n",
    "\n",
    "# Generate new 'train', 'test' image folders in your file_directory\n",
    "\n",
    "os.makedirs(img_dir + '/train')\n",
    "os.makedirs(img_dir + '/test')\n",
    "\n",
    "# Set train and test directories\n",
    "\n",
    "train_dir = img_dir + '/train'\n",
    "test_dir = img_dir + '/test'\n",
    "\n",
    "# Generate '0' / '1' label folder in 'train' folder\n",
    "\n",
    "os.makedirs(train_dir + '/1')\n",
    "os.makedirs(train_dir + '/0')\n",
    "\n",
    "# Set train label 0 and 1 directories\n",
    "\n",
    "train1_dir = train_dir + '/1'\n",
    "train0_dir = train_dir + '/0'\n",
    "\n",
    "\n",
    "### To move files according to train.csv and test.csv's 'Image_id' column\n",
    "\n",
    "train_file_name = train_df[\"Image_id\"]\n",
    "train_file_label = train_df[\"Label\"]\n",
    "test_file_name = test_df[\"Image_id\"]\n",
    "\n",
    "# Move train images from 'Images' folder to 'train' folder\n",
    "\n",
    "for i in train_file_name:\n",
    "    file_source = img_dir + f'/{i}'\n",
    "    file_destination = train_dir\n",
    "    shutil.move(file_source, file_destination)\n",
    "\n",
    "\n",
    "# Move test images from 'Images' folder to 'test' folder\n",
    "\n",
    "for i in test_file_name:\n",
    "    file_source = img_dir + f'/{i}'\n",
    "    file_destination = test_dir\n",
    "    shutil.move(file_source, file_destination)\n",
    "\n",
    "\n",
    "# Separate train images to '0' / '1' label folder\n",
    "\n",
    "for i, name in enumerate(train_file_name):\n",
    "    file_source = train_dir + f'/{name}'\n",
    "    file_destination_1 = train1_dir # for Label 1\n",
    "    file_destination_0 = train0_dir # for Label 0\n",
    "\n",
    "    if train_file_label[i] == 1:\n",
    "        shutil.move(file_source, file_destination_1)\n",
    "    else:\n",
    "        shutil.move(file_source, file_destination_0)"
   ]
  },
  {
   "cell_type": "markdown",
   "metadata": {},
   "source": [
    "# Image preprocessing"
   ]
  },
  {
   "cell_type": "code",
   "execution_count": 8,
   "metadata": {},
   "outputs": [
    {
     "name": "stdout",
     "output_type": "stream",
     "text": [
      "Found 1619 files belonging to 2 classes.\n",
      "Using 1296 files for training.\n",
      "\n",
      "\n",
      "Found 1619 files belonging to 2 classes.\n",
      "Using 323 files for validation.\n",
      "\n",
      "\n",
      "Found 1080 files belonging to 1 classes.\n"
     ]
    }
   ],
   "source": [
    "### Image preprocessing\n",
    "# Set batch_size, img_height, img_width\n",
    "\n",
    "batch_size = 32\n",
    "img_height = 180\n",
    "img_width = 180\n",
    "\n",
    "\n",
    "# Train image dataset\n",
    "\n",
    "train_ds = tf.keras.preprocessing.image_dataset_from_directory(\n",
    "    train_dir,\n",
    "    validation_split = 0.2, # 1619 * 0.8 = 1296 images are for train dataset\n",
    "    label_mode = 'binary',\n",
    "    subset = 'training',\n",
    "    shuffle = True,\n",
    "    seed = 2021120087,\n",
    "    image_size = (img_height, img_width),\n",
    "    batch_size = batch_size)\n",
    "\n",
    "print('\\n')\n",
    "\n",
    "# Validation image dataset\n",
    "\n",
    "val_ds = tf.keras.preprocessing.image_dataset_from_directory(\n",
    "    train_dir,\n",
    "    validation_split = 0.2, # 1619 * 0.2 = 323 images are for validation dataset\n",
    "    label_mode = 'binary',\n",
    "    subset = \"validation\",\n",
    "    shuffle = True,\n",
    "    seed = 2021120087,\n",
    "    image_size = (img_height, img_width),\n",
    "    batch_size = batch_size)\n",
    "\n",
    "print('\\n')\n",
    "\n",
    "# Test image dataset\n",
    "\n",
    "test_ds = tf.keras.preprocessing.image_dataset_from_directory(\n",
    "    test_dir,\n",
    "    label_mode = None,\n",
    "    shuffle = False,\n",
    "    image_size = (img_height, img_width),\n",
    "    batch_size = batch_size)"
   ]
  },
  {
   "cell_type": "code",
   "execution_count": 9,
   "metadata": {},
   "outputs": [
    {
     "name": "stdout",
     "output_type": "stream",
     "text": [
      "['0', '1']\n",
      "(32, 180, 180, 3)\n",
      "(32, 1)\n"
     ]
    }
   ],
   "source": [
    "# Class names (Labels)\n",
    "\n",
    "class_names = train_ds.class_names\n",
    "print(class_names)\n",
    "\n",
    "\n",
    "# Check the train image shapes\n",
    "\n",
    "for image_batch, labels_batch in train_ds:\n",
    "    print(image_batch.shape)\n",
    "    print(labels_batch.shape)\n",
    "    break"
   ]
  },
  {
   "cell_type": "markdown",
   "metadata": {},
   "source": [
    "# Min-Max Normalization"
   ]
  },
  {
   "cell_type": "code",
   "execution_count": 14,
   "metadata": {},
   "outputs": [
    {
     "name": "stdout",
     "output_type": "stream",
     "text": [
      "0.0 1.0\n",
      "0.0 1.0\n"
     ]
    }
   ],
   "source": [
    "# Set normalization layer\n",
    "\n",
    "normalization_layer = tf.keras.layers.experimental.preprocessing.Rescaling(1. / 255)\n",
    "\n",
    "\n",
    "# Min-Max Normalization train_ds\n",
    "\n",
    "normalized_train_ds = train_ds.map(lambda x, y: (normalization_layer(x), y))\n",
    "image_batch, labels_batch = next(iter(normalized_train_ds))\n",
    "\n",
    "# Check how well min-max normalization is applied\n",
    "print(np.min(image_batch), np.max(image_batch))\n",
    "\n",
    "# Min-Max Normalization for test_ds\n",
    "\n",
    "normalized_test_ds = test_ds.map(lambda x: (normalization_layer(x)))\n",
    "test_image_batch = next(iter(normalized_test_ds))\n",
    "\n",
    "print(np.min(test_image_batch), np.max(test_image_batch))\n",
    "\n",
    "### Question) Isn't Normalization necessary for validation set???"
   ]
  },
  {
   "cell_type": "code",
   "execution_count": 58,
   "metadata": {},
   "outputs": [],
   "source": [
    "### I think this is not necessary\n",
    "# Maintain images caches in memory\n",
    "\n",
    "AUTOTUNE = tf.data.AUTOTUNE\n",
    "\n",
    "train_ds = train_ds.cache().prefetch(buffer_size = AUTOTUNE)\n",
    "val_ds = val_ds.cache().prefetch(buffer_size = AUTOTUNE)"
   ]
  },
  {
   "cell_type": "markdown",
   "metadata": {},
   "source": [
    "# Define Model using tensorflow"
   ]
  },
  {
   "cell_type": "code",
   "execution_count": 15,
   "metadata": {},
   "outputs": [
    {
     "name": "stdout",
     "output_type": "stream",
     "text": [
      "Model: \"model\"\n",
      "_________________________________________________________________\n",
      "Layer (type)                 Output Shape              Param #   \n",
      "=================================================================\n",
      "input_1 (InputLayer)         [(None, 180, 180, 3)]     0         \n",
      "_________________________________________________________________\n",
      "rescaling_1 (Rescaling)      (None, 180, 180, 3)       0         \n",
      "_________________________________________________________________\n",
      "conv2d (Conv2D)              (None, 178, 178, 32)      896       \n",
      "_________________________________________________________________\n",
      "max_pooling2d (MaxPooling2D) (None, 89, 89, 32)        0         \n",
      "_________________________________________________________________\n",
      "conv2d_1 (Conv2D)            (None, 87, 87, 64)        18496     \n",
      "_________________________________________________________________\n",
      "max_pooling2d_1 (MaxPooling2 (None, 43, 43, 64)        0         \n",
      "_________________________________________________________________\n",
      "conv2d_2 (Conv2D)            (None, 41, 41, 128)       73856     \n",
      "_________________________________________________________________\n",
      "max_pooling2d_2 (MaxPooling2 (None, 20, 20, 128)       0         \n",
      "_________________________________________________________________\n",
      "conv2d_3 (Conv2D)            (None, 18, 18, 256)       295168    \n",
      "_________________________________________________________________\n",
      "max_pooling2d_3 (MaxPooling2 (None, 9, 9, 256)         0         \n",
      "_________________________________________________________________\n",
      "conv2d_4 (Conv2D)            (None, 7, 7, 256)         590080    \n",
      "_________________________________________________________________\n",
      "flatten (Flatten)            (None, 12544)             0         \n",
      "_________________________________________________________________\n",
      "dense (Dense)                (None, 1)                 12545     \n",
      "=================================================================\n",
      "Total params: 991,041\n",
      "Trainable params: 991,041\n",
      "Non-trainable params: 0\n",
      "_________________________________________________________________\n"
     ]
    }
   ],
   "source": [
    "# Model ConvNet\n",
    "\n",
    "from tensorflow import keras\n",
    "from tensorflow.keras import layers\n",
    "\n",
    "inputs = keras.Input(shape=(180, 180, 3))\n",
    "x = layers.experimental.preprocessing.Rescaling(1./255)(inputs)\n",
    "x = layers.Conv2D(filters=32, kernel_size=3, activation=\"relu\")(x)\n",
    "x = layers.MaxPooling2D(pool_size=2)(x)\n",
    "x = layers.Conv2D(filters=64, kernel_size=3, activation=\"relu\")(x)\n",
    "x = layers.MaxPooling2D(pool_size=2)(x)\n",
    "x = layers.Conv2D(filters=128, kernel_size=3, activation=\"relu\")(x)\n",
    "x = layers.MaxPooling2D(pool_size=2)(x)\n",
    "x = layers.Conv2D(filters=256, kernel_size=3, activation=\"relu\")(x)\n",
    "x = layers.MaxPooling2D(pool_size=2)(x)\n",
    "x = layers.Conv2D(filters=256, kernel_size=3, activation=\"relu\")(x)\n",
    "x = layers.Flatten()(x)\n",
    "outputs = layers.Dense(1, activation=\"sigmoid\")(x)\n",
    "model = keras.Model(inputs=inputs, outputs=outputs)\n",
    "\n",
    "# Model summary\n",
    "\n",
    "model.summary()"
   ]
  },
  {
   "cell_type": "markdown",
   "metadata": {},
   "source": [
    "# Train model"
   ]
  },
  {
   "cell_type": "code",
   "execution_count": 17,
   "metadata": {},
   "outputs": [],
   "source": [
    "# Compile model\n",
    "\n",
    "model.compile(\n",
    "    optimizer = 'adam',\n",
    "    loss = tf.losses.BinaryCrossentropy(),\n",
    "    metrics = ['accuracy']\n",
    ")\n",
    "\n",
    "# Train model\n",
    "history = model.fit(train_ds, validation_data = val_ds, epochs = 20, verbose = 0, batch_size = batch_size)"
   ]
  },
  {
   "cell_type": "code",
   "execution_count": 18,
   "metadata": {},
   "outputs": [
    {
     "data": {
      "image/png": "[encoded data removed]",
      "text/plain": [
       "<Figure size 432x288 with 1 Axes>"
      ]
     },
     "metadata": {
      "needs_background": "light"
     },
     "output_type": "display_data"
    }
   ],
   "source": [
    "# Visualize validation loss and accuracy loss\n",
    "\n",
    "history_dict = history.history\n",
    "loss_values = history_dict[\"loss\"]\n",
    "val_loss_values = history_dict[\"val_loss\"]\n",
    "epochs = range(1, len(loss_values) + 1)\n",
    "plt.plot(epochs, loss_values, \"bo\", label=\"Training loss\")\n",
    "plt.plot(epochs, val_loss_values, \"b\", label=\"Validation loss\")\n",
    "plt.title(\"Training and validation loss\")\n",
    "plt.xlabel(\"Epochs\")\n",
    "plt.ylabel(\"Loss\")\n",
    "plt.legend()\n",
    "plt.show()"
   ]
  },
  {
   "cell_type": "markdown",
   "metadata": {},
   "source": [
    "# To find the best model"
   ]
  },
  {
   "cell_type": "code",
   "execution_count": 19,
   "metadata": {},
   "outputs": [
    {
     "name": "stdout",
     "output_type": "stream",
     "text": [
      "Epoch 1/50\n",
      "41/41 [==============================] - 5s 92ms/step - loss: 0.0498 - accuracy: 0.9799 - val_loss: 0.2324 - val_accuracy: 0.9350\n",
      "Epoch 2/50\n",
      "41/41 [==============================] - 4s 90ms/step - loss: 0.0037 - accuracy: 1.0000 - val_loss: 0.2316 - val_accuracy: 0.9381\n",
      "Epoch 3/50\n",
      "41/41 [==============================] - 4s 91ms/step - loss: 7.4357e-04 - accuracy: 1.0000 - val_loss: 0.2461 - val_accuracy: 0.9412\n",
      "Epoch 4/50\n",
      "41/41 [==============================] - 4s 90ms/step - loss: 2.8264e-04 - accuracy: 1.0000 - val_loss: 0.2629 - val_accuracy: 0.9412\n",
      "Epoch 5/50\n",
      "41/41 [==============================] - 4s 89ms/step - loss: 1.6230e-04 - accuracy: 1.0000 - val_loss: 0.2719 - val_accuracy: 0.9412\n",
      "Epoch 6/50\n",
      "41/41 [==============================] - 4s 90ms/step - loss: 9.7415e-05 - accuracy: 1.0000 - val_loss: 0.3232 - val_accuracy: 0.9412\n",
      "Epoch 7/50\n",
      "41/41 [==============================] - 4s 91ms/step - loss: 9.2353e-05 - accuracy: 1.0000 - val_loss: 0.2869 - val_accuracy: 0.9412\n",
      "Epoch 8/50\n",
      "41/41 [==============================] - 4s 90ms/step - loss: 4.8684e-05 - accuracy: 1.0000 - val_loss: 0.3114 - val_accuracy: 0.9412\n",
      "Epoch 9/50\n",
      "41/41 [==============================] - 4s 88ms/step - loss: 3.4408e-05 - accuracy: 1.0000 - val_loss: 0.3232 - val_accuracy: 0.9443\n",
      "Epoch 10/50\n",
      "41/41 [==============================] - 4s 89ms/step - loss: 2.2184e-05 - accuracy: 1.0000 - val_loss: 0.3409 - val_accuracy: 0.9381\n",
      "Epoch 11/50\n",
      "41/41 [==============================] - 4s 86ms/step - loss: 2.9539e-05 - accuracy: 1.0000 - val_loss: 0.3175 - val_accuracy: 0.9443\n",
      "Epoch 12/50\n",
      "41/41 [==============================] - 4s 87ms/step - loss: 1.7596e-05 - accuracy: 1.0000 - val_loss: 0.3380 - val_accuracy: 0.9412\n",
      "Epoch 13/50\n",
      "41/41 [==============================] - 4s 85ms/step - loss: 1.1435e-05 - accuracy: 1.0000 - val_loss: 0.3591 - val_accuracy: 0.9412\n",
      "Epoch 14/50\n",
      "41/41 [==============================] - 4s 87ms/step - loss: 9.2845e-06 - accuracy: 1.0000 - val_loss: 0.3691 - val_accuracy: 0.9412\n",
      "Epoch 15/50\n",
      "41/41 [==============================] - 4s 93ms/step - loss: 6.7228e-06 - accuracy: 1.0000 - val_loss: 0.3812 - val_accuracy: 0.9412\n",
      "Epoch 16/50\n",
      "41/41 [==============================] - 4s 90ms/step - loss: 5.4919e-06 - accuracy: 1.0000 - val_loss: 0.3882 - val_accuracy: 0.9412\n",
      "Epoch 17/50\n",
      "41/41 [==============================] - 4s 85ms/step - loss: 3.6027e-06 - accuracy: 1.0000 - val_loss: 0.3978 - val_accuracy: 0.9412\n",
      "Epoch 18/50\n",
      "41/41 [==============================] - 4s 86ms/step - loss: 2.9979e-06 - accuracy: 1.0000 - val_loss: 0.4086 - val_accuracy: 0.9412\n",
      "Epoch 19/50\n",
      "41/41 [==============================] - 4s 85ms/step - loss: 2.6042e-06 - accuracy: 1.0000 - val_loss: 0.4137 - val_accuracy: 0.9412\n",
      "Epoch 20/50\n",
      "41/41 [==============================] - 4s 86ms/step - loss: 2.2147e-06 - accuracy: 1.0000 - val_loss: 0.4206 - val_accuracy: 0.9412\n",
      "Epoch 21/50\n",
      "41/41 [==============================] - 4s 85ms/step - loss: 2.0540e-06 - accuracy: 1.0000 - val_loss: 0.4264 - val_accuracy: 0.9412\n",
      "Epoch 22/50\n",
      "41/41 [==============================] - 4s 85ms/step - loss: 1.6590e-06 - accuracy: 1.0000 - val_loss: 0.4299 - val_accuracy: 0.9412\n",
      "Epoch 23/50\n",
      "41/41 [==============================] - 4s 86ms/step - loss: 1.5877e-06 - accuracy: 1.0000 - val_loss: 0.4345 - val_accuracy: 0.9412\n",
      "Epoch 24/50\n",
      "41/41 [==============================] - 4s 88ms/step - loss: 1.5636e-06 - accuracy: 1.0000 - val_loss: 0.4402 - val_accuracy: 0.9412\n",
      "Epoch 25/50\n",
      "41/41 [==============================] - 4s 87ms/step - loss: 1.2550e-06 - accuracy: 1.0000 - val_loss: 0.4426 - val_accuracy: 0.9443\n",
      "Epoch 26/50\n",
      "41/41 [==============================] - 4s 85ms/step - loss: 1.4395e-06 - accuracy: 1.0000 - val_loss: 0.4462 - val_accuracy: 0.9443\n",
      "Epoch 27/50\n",
      "41/41 [==============================] - 4s 86ms/step - loss: 1.0810e-06 - accuracy: 1.0000 - val_loss: 0.4516 - val_accuracy: 0.9443\n",
      "Epoch 28/50\n",
      "41/41 [==============================] - 4s 86ms/step - loss: 9.0072e-07 - accuracy: 1.0000 - val_loss: 0.4569 - val_accuracy: 0.9443\n",
      "Epoch 29/50\n",
      "41/41 [==============================] - 4s 86ms/step - loss: 7.9019e-07 - accuracy: 1.0000 - val_loss: 0.4630 - val_accuracy: 0.9443\n",
      "Epoch 30/50\n",
      "41/41 [==============================] - 4s 86ms/step - loss: 7.0741e-07 - accuracy: 1.0000 - val_loss: 0.4676 - val_accuracy: 0.9443\n",
      "Epoch 31/50\n",
      "41/41 [==============================] - 4s 85ms/step - loss: 6.7897e-07 - accuracy: 1.0000 - val_loss: 0.4731 - val_accuracy: 0.9412\n",
      "Epoch 32/50\n",
      "41/41 [==============================] - 4s 90ms/step - loss: 6.3951e-07 - accuracy: 1.0000 - val_loss: 0.4773 - val_accuracy: 0.9412\n",
      "Epoch 33/50\n",
      "41/41 [==============================] - 4s 85ms/step - loss: 5.6148e-07 - accuracy: 1.0000 - val_loss: 0.4808 - val_accuracy: 0.9412\n",
      "Epoch 34/50\n",
      "41/41 [==============================] - 4s 85ms/step - loss: 4.7888e-07 - accuracy: 1.0000 - val_loss: 0.4834 - val_accuracy: 0.9443\n",
      "Epoch 35/50\n",
      "41/41 [==============================] - 4s 86ms/step - loss: 4.7419e-07 - accuracy: 1.0000 - val_loss: 0.4839 - val_accuracy: 0.9443\n",
      "Epoch 36/50\n",
      "41/41 [==============================] - 4s 86ms/step - loss: 4.1983e-07 - accuracy: 1.0000 - val_loss: 0.4893 - val_accuracy: 0.9443\n",
      "Epoch 37/50\n",
      "41/41 [==============================] - 4s 86ms/step - loss: 3.8747e-07 - accuracy: 1.0000 - val_loss: 0.4943 - val_accuracy: 0.9443\n",
      "Epoch 38/50\n",
      "41/41 [==============================] - 4s 86ms/step - loss: 3.6492e-07 - accuracy: 1.0000 - val_loss: 0.4947 - val_accuracy: 0.9443\n",
      "Epoch 39/50\n",
      "41/41 [==============================] - 4s 86ms/step - loss: 3.4995e-07 - accuracy: 1.0000 - val_loss: 0.4997 - val_accuracy: 0.9412\n",
      "Epoch 40/50\n",
      "41/41 [==============================] - 4s 86ms/step - loss: 3.0300e-07 - accuracy: 1.0000 - val_loss: 0.5015 - val_accuracy: 0.9443\n",
      "Epoch 41/50\n",
      "41/41 [==============================] - 4s 85ms/step - loss: 3.0262e-07 - accuracy: 1.0000 - val_loss: 0.5057 - val_accuracy: 0.9443\n",
      "Epoch 42/50\n",
      "41/41 [==============================] - 4s 86ms/step - loss: 2.8467e-07 - accuracy: 1.0000 - val_loss: 0.5080 - val_accuracy: 0.9443\n",
      "Epoch 43/50\n",
      "41/41 [==============================] - 4s 86ms/step - loss: 2.5147e-07 - accuracy: 1.0000 - val_loss: 0.5089 - val_accuracy: 0.9443\n",
      "Epoch 44/50\n",
      "41/41 [==============================] - 4s 85ms/step - loss: 2.3054e-07 - accuracy: 1.0000 - val_loss: 0.5123 - val_accuracy: 0.9443\n",
      "Epoch 45/50\n",
      "41/41 [==============================] - 4s 89ms/step - loss: 2.4989e-07 - accuracy: 1.0000 - val_loss: 0.5142 - val_accuracy: 0.9443\n",
      "Epoch 46/50\n",
      "41/41 [==============================] - 4s 86ms/step - loss: 2.2110e-07 - accuracy: 1.0000 - val_loss: 0.5180 - val_accuracy: 0.9443\n",
      "Epoch 47/50\n",
      "41/41 [==============================] - 4s 86ms/step - loss: 2.0308e-07 - accuracy: 1.0000 - val_loss: 0.5213 - val_accuracy: 0.9443\n",
      "Epoch 48/50\n",
      "41/41 [==============================] - 4s 85ms/step - loss: 1.8063e-07 - accuracy: 1.0000 - val_loss: 0.5227 - val_accuracy: 0.9443\n",
      "Epoch 49/50\n",
      "41/41 [==============================] - 4s 86ms/step - loss: 1.7514e-07 - accuracy: 1.0000 - val_loss: 0.5252 - val_accuracy: 0.9443\n",
      "Epoch 50/50\n",
      "41/41 [==============================] - 4s 85ms/step - loss: 1.5357e-07 - accuracy: 1.0000 - val_loss: 0.5258 - val_accuracy: 0.9443\n"
     ]
    }
   ],
   "source": [
    "# Find the best model using callbacks\n",
    "\n",
    "model.compile(\n",
    "    optimizer = 'adam',\n",
    "    loss = tf.losses.BinaryCrossentropy(),\n",
    "    metrics = ['accuracy']\n",
    ")\n",
    "\n",
    "callbacks = [\n",
    "    keras.callbacks.ModelCheckpoint(\n",
    "        filepath=\"convnet_from_scratch_with_augmentation.keras\",\n",
    "        save_best_only=True,\n",
    "        monitor=\"val_loss\")\n",
    "]\n",
    "\n",
    "history_test = model.fit(\n",
    "    train_ds,\n",
    "    epochs = 50,\n",
    "    validation_data = val_ds,\n",
    "    callbacks = callbacks)"
   ]
  },
  {
   "cell_type": "code",
   "execution_count": 22,
   "metadata": {},
   "outputs": [
    {
     "data": {
      "text/html": [
       "<div>\n",
       "<style scoped>\n",
       "    .dataframe tbody tr th:only-of-type {\n",
       "        vertical-align: middle;\n",
       "    }\n",
       "\n",
       "    .dataframe tbody tr th {\n",
       "        vertical-align: top;\n",
       "    }\n",
       "\n",
       "    .dataframe thead th {\n",
       "        text-align: right;\n",
       "    }\n",
       "</style>\n",
       "<table border=\"1\" class=\"dataframe\">\n",
       "  <thead>\n",
       "    <tr style=\"text-align: right;\">\n",
       "      <th></th>\n",
       "      <th>Image_id</th>\n",
       "      <th>Label</th>\n",
       "    </tr>\n",
       "  </thead>\n",
       "  <tbody>\n",
       "    <tr>\n",
       "      <th>0</th>\n",
       "      <td>id_00exusbkgzw1b.jpg</td>\n",
       "      <td>0</td>\n",
       "    </tr>\n",
       "    <tr>\n",
       "      <th>1</th>\n",
       "      <td>id_03dqinf6w0znv.jpg</td>\n",
       "      <td>0</td>\n",
       "    </tr>\n",
       "    <tr>\n",
       "      <th>2</th>\n",
       "      <td>id_046yl0cxn3ybz.jpg</td>\n",
       "      <td>1</td>\n",
       "    </tr>\n",
       "    <tr>\n",
       "      <th>3</th>\n",
       "      <td>id_04athdtx2abyg.jpg</td>\n",
       "      <td>0</td>\n",
       "    </tr>\n",
       "    <tr>\n",
       "      <th>4</th>\n",
       "      <td>id_062aauf9e9jk0.jpg</td>\n",
       "      <td>0</td>\n",
       "    </tr>\n",
       "  </tbody>\n",
       "</table>\n",
       "</div>"
      ],
      "text/plain": [
       "               Image_id  Label\n",
       "0  id_00exusbkgzw1b.jpg      0\n",
       "1  id_03dqinf6w0znv.jpg      0\n",
       "2  id_046yl0cxn3ybz.jpg      1\n",
       "3  id_04athdtx2abyg.jpg      0\n",
       "4  id_062aauf9e9jk0.jpg      0"
      ]
     },
     "execution_count": 22,
     "metadata": {},
     "output_type": "execute_result"
    }
   ],
   "source": [
    "# Fit the best model\n",
    "\n",
    "test_model = keras.models.load_model(\n",
    "    \"convnet_from_scratch_with_augmentation.keras\")\n",
    "\n",
    "predictions = test_model.predict(test_ds)\n",
    "prediction_classes = [\n",
    "    1 if prob > 0.5 else 0 for prob in np.ravel(predictions)\n",
    "]\n",
    "\n",
    "sample_sub[\"Label\"] = prediction_classes\n",
    "sample_sub.head()"
   ]
  },
  {
   "cell_type": "code",
   "execution_count": 25,
   "metadata": {},
   "outputs": [],
   "source": [
    "# Save csv file\n",
    "\n",
    "sample_sub.to_csv(\"SampleSubmission.csv\", index = False)"
   ]
  }
 ],
 "metadata": {
  "interpreter": {
   "hash": "453dee3dc3901cb9a21ed0866384fb1d6a0d6f4710a79aa791e402cd59be06a2"
  },
  "kernelspec": {
   "display_name": "Python 3.9.7 ('tf')",
   "language": "python",
   "name": "python3"
  },
  "language_info": {
   "codemirror_mode": {
    "name": "ipython",
    "version": 3
   },
   "file_extension": ".py",
   "mimetype": "text/x-python",
   "name": "python",
   "nbconvert_exporter": "python",
   "pygments_lexer": "ipython3",
   "version": "3.9.7"
  },
  "orig_nbformat": 4
 },
 "nbformat": 4,
 "nbformat_minor": 2
}
