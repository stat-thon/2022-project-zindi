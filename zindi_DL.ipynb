{
 "cells": [
  {
   "cell_type": "markdown",
   "metadata": {},
   "source": [
    "# Zindi Image classification (Binary)"
   ]
  },
  {
   "cell_type": "code",
   "execution_count": 2,
   "metadata": {},
   "outputs": [],
   "source": [
    "# Import packages\n",
    "\n",
    "import numpy as np\n",
    "import pandas as pd\n",
    "\n",
    "import matplotlib.pyplot as plt\n",
    "import matplotlib.image as img # to read images\n",
    "\n",
    "import os                      # to generate new file directories\n",
    "import shutil                  # to move files\n",
    "from tqdm import tqdm          # to see process bar\n",
    "\n",
    "import glob                    # to gather jpg files\n",
    "from glob import glob\n",
    "\n",
    "import tensorflow as tf"
   ]
  },
  {
   "cell_type": "markdown",
   "metadata": {},
   "source": [
    "# Input your own file directory"
   ]
  },
  {
   "cell_type": "code",
   "execution_count": null,
   "metadata": {},
   "outputs": [],
   "source": [
    "# Input your file directory\n",
    "\n",
    "file_dir = 'D:/thon/DL/zindi' # Change here with your file directory"
   ]
  },
  {
   "cell_type": "code",
   "execution_count": 38,
   "metadata": {},
   "outputs": [
    {
     "name": "stdout",
     "output_type": "stream",
     "text": [
      "1619\n",
      "               Image_id  Label\n",
      "0  id_02amazy34fgh2.jpg      1\n",
      "1  id_02mh3w48pmyc9.jpg      0\n",
      "2  id_02rpb463h9d3w.jpg      0\n",
      "3  id_02wc3jeeao8ol.jpg      1\n",
      "4  id_03t2hapb8wz8p.jpg      1\n",
      "\n",
      "\n",
      "               Image_id\n",
      "0  id_00exusbkgzw1b.jpg\n",
      "1  id_03dqinf6w0znv.jpg\n",
      "2  id_046yl0cxn3ybz.jpg\n",
      "3  id_04athdtx2abyg.jpg\n",
      "4  id_062aauf9e9jk0.jpg\n",
      "\n",
      "\n",
      "1080\n",
      "1080\n"
     ]
    }
   ],
   "source": [
    "# Read train, test and submission csv files\n",
    "\n",
    "train_df = pd.read_csv(file_dir + '/Train.csv')\n",
    "test_df = pd.read_csv(file_dir + '/Test.csv')\n",
    "sample_sub = pd.read_csv(file_dir + '/SampleSubmission.csv')\n",
    "\n",
    "print(len(train_df['Image_id']))\n",
    "print(train_df.head())\n",
    "print('\\n')\n",
    "print(test_df.head())\n",
    "print('\\n')\n",
    "print(len(test_df['Image_id']))\n",
    "print(np.sum(test_df['Image_id'] == sample_sub['Image_id'])) # Test.csv and SampleSubmission.csv's Image_id is identical"
   ]
  },
  {
   "cell_type": "markdown",
   "metadata": {},
   "source": [
    "# Check shape of image, since each image has different shape"
   ]
  },
  {
   "cell_type": "code",
   "execution_count": 6,
   "metadata": {},
   "outputs": [
    {
     "name": "stderr",
     "output_type": "stream",
     "text": [
      "100%|██████████| 1619/1619 [00:22<00:00, 72.64it/s]\n",
      "100%|██████████| 1080/1080 [00:14<00:00, 75.18it/s]"
     ]
    },
    {
     "name": "stdout",
     "output_type": "stream",
     "text": [
      "width   height  channel\n",
      "1024.0  768.0   3.0        526\n",
      "        1024.0  3.0        431\n",
      "        765.0   3.0        237\n",
      "        498.0   3.0        146\n",
      "768.0   1024.0  3.0        110\n",
      "3200.0  2000.0  3.0         59\n",
      "1024.0  640.0   3.0         44\n",
      "498.0   1024.0  3.0         43\n",
      "765.0   1024.0  3.0         18\n",
      "2000.0  3200.0  3.0          3\n",
      "640.0   1024.0  3.0          2\n",
      "dtype: int64\n",
      "\n",
      "\n",
      "width   height  channel\n",
      "1024.0  768.0   3.0        379\n",
      "        1024.0  3.0        263\n",
      "        765.0   3.0        161\n",
      "        498.0   3.0        113\n",
      "768.0   1024.0  3.0         73\n",
      "3200.0  2000.0  3.0         33\n",
      "1024.0  640.0   3.0         21\n",
      "498.0   1024.0  3.0         18\n",
      "765.0   1024.0  3.0         14\n",
      "2000.0  3200.0  3.0          4\n",
      "640.0   1024.0  3.0          1\n",
      "dtype: int64\n"
     ]
    },
    {
     "name": "stderr",
     "output_type": "stream",
     "text": [
      "\n"
     ]
    }
   ],
   "source": [
    "### To check the shape of whole images\n",
    "\n",
    "train_df['width'] = np.nan\n",
    "train_df['height'] = np.nan\n",
    "train_df['channel'] = np.nan\n",
    "\n",
    "test_df['width'] = np.nan\n",
    "test_df['height'] = np.nan\n",
    "test_df['channel'] = np.nan\n",
    "\n",
    "\n",
    "# Set image directory\n",
    "\n",
    "img_dir = file_dir + '/Images'\n",
    "\n",
    "# To check train images' shape\n",
    "\n",
    "for i in tqdm(range(len(train_df))):\n",
    "  image = img.imread(img_dir + '/' + train_df['Image_id'].loc[i])\n",
    "  w, h, c = image.shape\n",
    "  train_df.loc[i, 'width'] = w\n",
    "  train_df.loc[i, 'height'] = h\n",
    "  train_df.loc[i, 'channel'] = c\n",
    "\n",
    "# To check test images' shape\n",
    "\n",
    "for i in tqdm(range(len(test_df))):\n",
    "  image = img.imread(img_dir + '/' + test_df['Image_id'].loc[i])\n",
    "  w, h, c = image.shape\n",
    "  test_df.loc[i, 'width'] = w\n",
    "  test_df.loc[i, 'height'] = h\n",
    "  test_df.loc[i, 'channel'] = c\n",
    "\n",
    "\n",
    "# Train image's shape\n",
    "\n",
    "print(train_df[['width', 'height', 'channel']].value_counts())\n",
    "print('\\n')\n",
    "\n",
    "# Test images' shape\n",
    "\n",
    "print(test_df[['width', 'height', 'channel']].value_counts())"
   ]
  },
  {
   "cell_type": "markdown",
   "metadata": {},
   "source": [
    "# Managing Image directories and files"
   ]
  },
  {
   "cell_type": "markdown",
   "metadata": {},
   "source": [
    "## You don't need to do it twice"
   ]
  },
  {
   "cell_type": "code",
   "execution_count": 7,
   "metadata": {},
   "outputs": [],
   "source": [
    "### You don't need to do it twice\n",
    "\n",
    "# Generate new 'train', 'test' image folders in your file_directory\n",
    "\n",
    "os.makedirs(img_dir + '/train')\n",
    "os.makedirs(img_dir + '/test')\n",
    "\n",
    "# Set train and test directories\n",
    "\n",
    "train_dir = img_dir + '/train'\n",
    "test_dir = img_dir + '/test'\n",
    "\n",
    "# Generate '0' / '1' label folder in 'train' folder\n",
    "\n",
    "os.makedirs(train_dir + '/1')\n",
    "os.makedirs(train_dir + '/0')\n",
    "\n",
    "# Set train label 0 and 1 directories\n",
    "\n",
    "train1_dir = train_dir + '/1'\n",
    "train0_dir = train_dir + '/0'\n",
    "\n",
    "\n",
    "### To move files according to train.csv and test.csv's 'Image_id' column\n",
    "\n",
    "train_file_name = train_df[\"Image_id\"]\n",
    "train_file_label = train_df[\"Label\"]\n",
    "test_file_name = test_df[\"Image_id\"]\n",
    "\n",
    "# Move train images from 'Images' folder to 'train' folder\n",
    "\n",
    "for i in train_file_name:\n",
    "    file_source = img_dir + f'/{i}'\n",
    "    file_destination = train_dir\n",
    "    shutil.move(file_source, file_destination)\n",
    "\n",
    "\n",
    "# Move test images from 'Images' folder to 'test' folder\n",
    "\n",
    "for i in test_file_name:\n",
    "    file_source = img_dir + f'/{i}'\n",
    "    file_destination = test_dir\n",
    "    shutil.move(file_source, file_destination)\n",
    "\n",
    "\n",
    "# Separate train images to '0' / '1' label folder\n",
    "\n",
    "for i, name in enumerate(train_file_name):\n",
    "    file_source = train_dir + f'/{name}'\n",
    "    file_destination_1 = train1_dir # for Label 1\n",
    "    file_destination_0 = train0_dir # for Label 0\n",
    "\n",
    "    if train_file_label[i] == 1:\n",
    "        shutil.move(file_source, file_destination_1)\n",
    "    else:\n",
    "        shutil.move(file_source, file_destination_0)"
   ]
  },
  {
   "cell_type": "markdown",
   "metadata": {},
   "source": [
    "# Image preprocessing"
   ]
  },
  {
   "cell_type": "code",
   "execution_count": 8,
   "metadata": {},
   "outputs": [
    {
     "name": "stdout",
     "output_type": "stream",
     "text": [
      "Found 1619 files belonging to 2 classes.\n",
      "Using 1296 files for training.\n",
      "\n",
      "\n",
      "Found 1619 files belonging to 2 classes.\n",
      "Using 323 files for validation.\n",
      "\n",
      "\n",
      "Found 1080 files belonging to 1 classes.\n"
     ]
    }
   ],
   "source": [
    "### Image preprocessing\n",
    "# Set batch_size, img_height, img_width\n",
    "\n",
    "batch_size = 32\n",
    "img_height = 180\n",
    "img_width = 180\n",
    "\n",
    "\n",
    "# Train image dataset\n",
    "\n",
    "train_ds = tf.keras.preprocessing.image_dataset_from_directory(\n",
    "    train_dir,\n",
    "    validation_split = 0.2, # 1619 * 0.8 = 1296 images are for train dataset\n",
    "    label_mode = 'binary',\n",
    "    subset = 'training',\n",
    "    shuffle = True,\n",
    "    seed = 2021120087,\n",
    "    image_size = (img_height, img_width),\n",
    "    batch_size = batch_size)\n",
    "\n",
    "print('\\n')\n",
    "\n",
    "# Validation image dataset\n",
    "\n",
    "val_ds = tf.keras.preprocessing.image_dataset_from_directory(\n",
    "    train_dir,\n",
    "    validation_split = 0.2, # 1619 * 0.2 = 323 images are for validation dataset\n",
    "    label_mode = 'binary',\n",
    "    subset = \"validation\",\n",
    "    shuffle = True,\n",
    "    seed = 2021120087,\n",
    "    image_size = (img_height, img_width),\n",
    "    batch_size = batch_size)\n",
    "\n",
    "print('\\n')\n",
    "\n",
    "# Test image dataset\n",
    "\n",
    "test_ds = tf.keras.preprocessing.image_dataset_from_directory(\n",
    "    test_dir,\n",
    "    label_mode = None,\n",
    "    shuffle = False,\n",
    "    image_size = (img_height, img_width),\n",
    "    batch_size = batch_size)"
   ]
  },
  {
   "cell_type": "code",
   "execution_count": 9,
   "metadata": {},
   "outputs": [
    {
     "name": "stdout",
     "output_type": "stream",
     "text": [
      "['0', '1']\n",
      "(32, 180, 180, 3)\n",
      "(32, 1)\n"
     ]
    }
   ],
   "source": [
    "# Class names (Labels)\n",
    "\n",
    "class_names = train_ds.class_names\n",
    "print(class_names)\n",
    "\n",
    "\n",
    "# Check the train image shapes\n",
    "\n",
    "for image_batch, labels_batch in train_ds:\n",
    "    print(image_batch.shape)\n",
    "    print(labels_batch.shape)\n",
    "    break"
   ]
  },
  {
   "cell_type": "markdown",
   "metadata": {},
   "source": [
    "# Normalization (Not necessary)"
   ]
  },
  {
   "cell_type": "code",
   "execution_count": 1,
   "metadata": {},
   "outputs": [
    {
     "ename": "NameError",
     "evalue": "name 'tf' is not defined",
     "output_type": "error",
     "traceback": [
      "\u001b[1;31m---------------------------------------------------------------------------\u001b[0m",
      "\u001b[1;31mNameError\u001b[0m                                 Traceback (most recent call last)",
      "\u001b[1;32md:\\thon\\DL\\zindi_DL.ipynb Cell 15'\u001b[0m in \u001b[0;36m<cell line: 3>\u001b[1;34m()\u001b[0m\n\u001b[0;32m      <a href='vscode-notebook-cell:/d%3A/thon/DL/zindi_DL.ipynb#ch0000014?line=0'>1</a>\u001b[0m \u001b[39m# Set normalization layer\u001b[39;00m\n\u001b[1;32m----> <a href='vscode-notebook-cell:/d%3A/thon/DL/zindi_DL.ipynb#ch0000014?line=2'>3</a>\u001b[0m normalization_layer \u001b[39m=\u001b[39m tf\u001b[39m.\u001b[39mkeras\u001b[39m.\u001b[39mlayers\u001b[39m.\u001b[39mexperimental\u001b[39m.\u001b[39mpreprocessing\u001b[39m.\u001b[39mRescaling(\u001b[39m1.\u001b[39m \u001b[39m/\u001b[39m \u001b[39m255\u001b[39m)\n\u001b[0;32m      <a href='vscode-notebook-cell:/d%3A/thon/DL/zindi_DL.ipynb#ch0000014?line=5'>6</a>\u001b[0m \u001b[39m# Normalization train_ds\u001b[39;00m\n\u001b[0;32m      <a href='vscode-notebook-cell:/d%3A/thon/DL/zindi_DL.ipynb#ch0000014?line=7'>8</a>\u001b[0m normalized_train_ds \u001b[39m=\u001b[39m train_ds\u001b[39m.\u001b[39mmap(\u001b[39mlambda\u001b[39;00m x, y: (normalization_layer(x), y))\n",
      "\u001b[1;31mNameError\u001b[0m: name 'tf' is not defined"
     ]
    }
   ],
   "source": [
    "# Set normalization layer\n",
    "\n",
    "normalization_layer = tf.keras.layers.experimental.preprocessing.Rescaling(1. / 255)\n",
    "\n",
    "\n",
    "# Normalization train_ds\n",
    "\n",
    "normalized_train_ds = train_ds.map(lambda x, y: (normalization_layer(x), y))\n",
    "image_batch, labels_batch = next(iter(normalized_train_ds))\n",
    "\n",
    "# Check how well normalization is applied\n",
    "print(np.min(image_batch), np.max(image_batch))\n",
    "\n",
    "# Normalization for test_ds\n",
    "\n",
    "normalized_test_ds = test_ds.map(lambda x: (normalization_layer(x)))\n",
    "test_image_batch = next(iter(normalized_test_ds))\n",
    "\n",
    "print(np.min(test_image_batch), np.max(test_image_batch))\n",
    "\n",
    "### Normalized dataset had lower accuracy for our model"
   ]
  },
  {
   "cell_type": "markdown",
   "metadata": {},
   "source": [
    "# Define Model using tensorflow"
   ]
  },
  {
   "cell_type": "code",
   "execution_count": 44,
   "metadata": {},
   "outputs": [
    {
     "name": "stdout",
     "output_type": "stream",
     "text": [
      "Model: \"model_1\"\n",
      "_________________________________________________________________\n",
      "Layer (type)                 Output Shape              Param #   \n",
      "=================================================================\n",
      "input_2 (InputLayer)         [(None, 180, 180, 3)]     0         \n",
      "_________________________________________________________________\n",
      "rescaling_2 (Rescaling)      (None, 180, 180, 3)       0         \n",
      "_________________________________________________________________\n",
      "conv2d_5 (Conv2D)            (None, 178, 178, 32)      896       \n",
      "_________________________________________________________________\n",
      "max_pooling2d_4 (MaxPooling2 (None, 89, 89, 32)        0         \n",
      "_________________________________________________________________\n",
      "conv2d_6 (Conv2D)            (None, 87, 87, 64)        18496     \n",
      "_________________________________________________________________\n",
      "max_pooling2d_5 (MaxPooling2 (None, 43, 43, 64)        0         \n",
      "_________________________________________________________________\n",
      "conv2d_7 (Conv2D)            (None, 41, 41, 128)       73856     \n",
      "_________________________________________________________________\n",
      "max_pooling2d_6 (MaxPooling2 (None, 20, 20, 128)       0         \n",
      "_________________________________________________________________\n",
      "conv2d_8 (Conv2D)            (None, 18, 18, 256)       295168    \n",
      "_________________________________________________________________\n",
      "max_pooling2d_7 (MaxPooling2 (None, 9, 9, 256)         0         \n",
      "_________________________________________________________________\n",
      "conv2d_9 (Conv2D)            (None, 7, 7, 256)         590080    \n",
      "_________________________________________________________________\n",
      "flatten_1 (Flatten)          (None, 12544)             0         \n",
      "_________________________________________________________________\n",
      "dense_1 (Dense)              (None, 1)                 12545     \n",
      "=================================================================\n",
      "Total params: 991,041\n",
      "Trainable params: 991,041\n",
      "Non-trainable params: 0\n",
      "_________________________________________________________________\n"
     ]
    }
   ],
   "source": [
    "# ConvNet layers\n",
    "\n",
    "from tensorflow import keras\n",
    "from tensorflow.keras import layers\n",
    "\n",
    "inputs = keras.Input(shape = (180, 180, 3))\n",
    "x = layers.experimental.preprocessing.Rescaling(1./255)(inputs)\n",
    "x = layers.Conv2D(filters = 32, kernel_size = 3, activation = \"relu\")(x)\n",
    "x = layers.MaxPooling2D(pool_size = 2)(x)\n",
    "x = layers.Conv2D(filters = 64, kernel_size = 3, activation = \"relu\")(x)\n",
    "x = layers.MaxPooling2D(pool_size = 2)(x)\n",
    "x = layers.Conv2D(filters = 128, kernel_size = 3, activation = \"relu\")(x)\n",
    "x = layers.MaxPooling2D(pool_size = 2)(x)\n",
    "x = layers.Conv2D(filters = 256, kernel_size = 3, activation = \"relu\")(x)\n",
    "x = layers.MaxPooling2D(pool_size = 2)(x)\n",
    "x = layers.Conv2D(filters = 256, kernel_size = 3, activation = \"relu\")(x)\n",
    "x = layers.Flatten()(x)\n",
    "outputs = layers.Dense(1, activation = \"sigmoid\")(x)\n",
    "model = keras.Model(inputs = inputs, outputs = outputs)\n",
    "\n",
    "# Model summary\n",
    "\n",
    "model.summary()"
   ]
  },
  {
   "cell_type": "markdown",
   "metadata": {},
   "source": [
    "# Train model"
   ]
  },
  {
   "cell_type": "code",
   "execution_count": 40,
   "metadata": {},
   "outputs": [],
   "source": [
    "# Compile model\n",
    "\n",
    "model.compile(\n",
    "    optimizer = 'adam',\n",
    "    loss = tf.losses.BinaryCrossentropy(),\n",
    "    metrics = ['Accuracy']\n",
    ")\n",
    "\n",
    "# Train model\n",
    "\n",
    "history = model.fit(train_ds, validation_data = val_ds, epochs = 20, verbose = 0, batch_size = batch_size)"
   ]
  },
  {
   "cell_type": "code",
   "execution_count": 42,
   "metadata": {},
   "outputs": [
    {
     "data": {
      "image/png": "[encoded data removed]",
      "text/plain": [
       "<Figure size 432x288 with 1 Axes>"
      ]
     },
     "metadata": {
      "needs_background": "light"
     },
     "output_type": "display_data"
    }
   ],
   "source": [
    "# Visualize validation loss and accuracy loss\n",
    "\n",
    "history_dict = history.history\n",
    "loss_values = history_dict[\"loss\"]\n",
    "val_loss_values = history_dict[\"val_loss\"]\n",
    "epochs = range(1, len(loss_values) + 1)\n",
    "plt.plot(epochs, loss_values, \"bo\", label = \"Training loss\")\n",
    "plt.plot(epochs, val_loss_values, \"b\", label = \"Validation loss\")\n",
    "plt.title(\"Training and validation loss\")\n",
    "plt.xlabel(\"Epochs\")\n",
    "plt.ylabel(\"Loss\")\n",
    "plt.legend()\n",
    "plt.show()"
   ]
  },
  {
   "cell_type": "markdown",
   "metadata": {},
   "source": [
    "# To find the best model"
   ]
  },
  {
   "cell_type": "code",
   "execution_count": 45,
   "metadata": {},
   "outputs": [
    {
     "name": "stdout",
     "output_type": "stream",
     "text": [
      "Epoch 1/50\n",
      "41/41 [==============================] - 5s 95ms/step - loss: 0.6567 - auc: 0.6537 - val_loss: 0.6228 - val_auc: 0.8502\n",
      "Epoch 2/50\n",
      "41/41 [==============================] - 4s 91ms/step - loss: 0.5060 - auc: 0.8363 - val_loss: 0.4167 - val_auc: 0.8943\n",
      "Epoch 3/50\n",
      "41/41 [==============================] - 4s 91ms/step - loss: 0.4145 - auc: 0.8975 - val_loss: 0.3216 - val_auc: 0.9382\n",
      "Epoch 4/50\n",
      "41/41 [==============================] - 4s 92ms/step - loss: 0.2874 - auc: 0.9493 - val_loss: 0.2627 - val_auc: 0.9662\n",
      "Epoch 5/50\n",
      "41/41 [==============================] - 4s 91ms/step - loss: 0.2172 - auc: 0.9709 - val_loss: 0.2686 - val_auc: 0.9531\n",
      "Epoch 6/50\n",
      "41/41 [==============================] - 4s 90ms/step - loss: 0.1767 - auc: 0.9805 - val_loss: 0.1984 - val_auc: 0.9843\n",
      "Epoch 7/50\n",
      "41/41 [==============================] - 4s 91ms/step - loss: 0.1405 - auc: 0.9871 - val_loss: 0.1855 - val_auc: 0.9794\n",
      "Epoch 8/50\n",
      "41/41 [==============================] - 4s 91ms/step - loss: 0.1104 - auc: 0.9928 - val_loss: 0.1548 - val_auc: 0.9885\n",
      "Epoch 9/50\n",
      "41/41 [==============================] - 4s 91ms/step - loss: 0.0772 - auc: 0.9959 - val_loss: 0.1604 - val_auc: 0.9876\n",
      "Epoch 10/50\n",
      "41/41 [==============================] - 4s 91ms/step - loss: 0.0770 - auc: 0.9967 - val_loss: 0.1489 - val_auc: 0.9875\n",
      "Epoch 11/50\n",
      "41/41 [==============================] - 4s 91ms/step - loss: 0.0476 - auc: 0.9988 - val_loss: 0.1702 - val_auc: 0.9850\n",
      "Epoch 12/50\n",
      "41/41 [==============================] - 4s 91ms/step - loss: 0.0646 - auc: 0.9976 - val_loss: 0.1706 - val_auc: 0.9867\n",
      "Epoch 13/50\n",
      "41/41 [==============================] - 4s 90ms/step - loss: 0.0270 - auc: 0.9997 - val_loss: 0.1537 - val_auc: 0.9869\n",
      "Epoch 14/50\n",
      "41/41 [==============================] - 4s 91ms/step - loss: 0.0178 - auc: 0.9999 - val_loss: 0.1762 - val_auc: 0.9847\n",
      "Epoch 15/50\n",
      "41/41 [==============================] - 4s 90ms/step - loss: 0.0083 - auc: 1.0000 - val_loss: 0.2074 - val_auc: 0.9789\n",
      "Epoch 16/50\n",
      "41/41 [==============================] - 4s 91ms/step - loss: 0.0332 - auc: 0.9993 - val_loss: 0.1966 - val_auc: 0.9789\n",
      "Epoch 17/50\n",
      "41/41 [==============================] - 4s 92ms/step - loss: 0.0094 - auc: 1.0000 - val_loss: 0.1962 - val_auc: 0.9808\n",
      "Epoch 18/50\n",
      "41/41 [==============================] - 4s 93ms/step - loss: 0.0031 - auc: 1.0000 - val_loss: 0.2345 - val_auc: 0.9750\n",
      "Epoch 19/50\n",
      "41/41 [==============================] - 4s 91ms/step - loss: 8.1195e-04 - auc: 1.0000 - val_loss: 0.2372 - val_auc: 0.9781\n",
      "Epoch 20/50\n",
      "41/41 [==============================] - 4s 92ms/step - loss: 4.8156e-04 - auc: 1.0000 - val_loss: 0.2527 - val_auc: 0.9778\n",
      "Epoch 21/50\n",
      "41/41 [==============================] - 4s 92ms/step - loss: 2.5683e-04 - auc: 1.0000 - val_loss: 0.2509 - val_auc: 0.9783\n",
      "Epoch 22/50\n",
      "41/41 [==============================] - 4s 94ms/step - loss: 1.9915e-04 - auc: 1.0000 - val_loss: 0.2589 - val_auc: 0.9760\n",
      "Epoch 23/50\n",
      "41/41 [==============================] - 4s 96ms/step - loss: 1.5207e-04 - auc: 1.0000 - val_loss: 0.2663 - val_auc: 0.9735\n",
      "Epoch 24/50\n",
      "41/41 [==============================] - 4s 92ms/step - loss: 1.1980e-04 - auc: 1.0000 - val_loss: 0.2739 - val_auc: 0.9735\n",
      "Epoch 25/50\n",
      "41/41 [==============================] - 4s 90ms/step - loss: 9.7082e-05 - auc: 1.0000 - val_loss: 0.2834 - val_auc: 0.9734\n",
      "Epoch 26/50\n",
      "41/41 [==============================] - 4s 91ms/step - loss: 8.1829e-05 - auc: 1.0000 - val_loss: 0.2933 - val_auc: 0.9736\n",
      "Epoch 27/50\n",
      "41/41 [==============================] - 4s 90ms/step - loss: 6.8242e-05 - auc: 1.0000 - val_loss: 0.2964 - val_auc: 0.9706\n",
      "Epoch 28/50\n",
      "41/41 [==============================] - 4s 90ms/step - loss: 5.7005e-05 - auc: 1.0000 - val_loss: 0.3092 - val_auc: 0.9738\n",
      "Epoch 29/50\n",
      "41/41 [==============================] - 4s 91ms/step - loss: 5.3676e-05 - auc: 1.0000 - val_loss: 0.3099 - val_auc: 0.9709\n",
      "Epoch 30/50\n",
      "41/41 [==============================] - 4s 91ms/step - loss: 4.3339e-05 - auc: 1.0000 - val_loss: 0.3207 - val_auc: 0.9712\n",
      "Epoch 31/50\n",
      "41/41 [==============================] - 4s 91ms/step - loss: 4.4777e-05 - auc: 1.0000 - val_loss: 0.3237 - val_auc: 0.9711\n",
      "Epoch 32/50\n",
      "41/41 [==============================] - 4s 90ms/step - loss: 3.6875e-05 - auc: 1.0000 - val_loss: 0.3334 - val_auc: 0.9711\n",
      "Epoch 33/50\n",
      "41/41 [==============================] - 4s 93ms/step - loss: 3.7643e-05 - auc: 1.0000 - val_loss: 0.3310 - val_auc: 0.9711\n",
      "Epoch 34/50\n",
      "41/41 [==============================] - 4s 94ms/step - loss: 2.9721e-05 - auc: 1.0000 - val_loss: 0.3356 - val_auc: 0.9711\n",
      "Epoch 35/50\n",
      "41/41 [==============================] - 4s 92ms/step - loss: 2.5816e-05 - auc: 1.0000 - val_loss: 0.3368 - val_auc: 0.9711\n",
      "Epoch 36/50\n",
      "41/41 [==============================] - 4s 95ms/step - loss: 2.2278e-05 - auc: 1.0000 - val_loss: 0.3476 - val_auc: 0.9686\n",
      "Epoch 37/50\n",
      "41/41 [==============================] - 4s 92ms/step - loss: 2.1186e-05 - auc: 1.0000 - val_loss: 0.3517 - val_auc: 0.9712\n",
      "Epoch 38/50\n",
      "41/41 [==============================] - 4s 91ms/step - loss: 1.8822e-05 - auc: 1.0000 - val_loss: 0.3552 - val_auc: 0.9686\n",
      "Epoch 39/50\n",
      "41/41 [==============================] - 4s 91ms/step - loss: 1.6891e-05 - auc: 1.0000 - val_loss: 0.3603 - val_auc: 0.9686\n",
      "Epoch 40/50\n",
      "41/41 [==============================] - 4s 91ms/step - loss: 1.5348e-05 - auc: 1.0000 - val_loss: 0.3659 - val_auc: 0.9686\n",
      "Epoch 41/50\n",
      "41/41 [==============================] - 4s 90ms/step - loss: 1.4932e-05 - auc: 1.0000 - val_loss: 0.3721 - val_auc: 0.9658\n",
      "Epoch 42/50\n",
      "41/41 [==============================] - 4s 91ms/step - loss: 1.4576e-05 - auc: 1.0000 - val_loss: 0.3694 - val_auc: 0.9686\n",
      "Epoch 43/50\n",
      "41/41 [==============================] - 4s 91ms/step - loss: 1.1574e-05 - auc: 1.0000 - val_loss: 0.3747 - val_auc: 0.9686\n",
      "Epoch 44/50\n",
      "41/41 [==============================] - 4s 91ms/step - loss: 1.0128e-05 - auc: 1.0000 - val_loss: 0.3828 - val_auc: 0.9659\n",
      "Epoch 45/50\n",
      "41/41 [==============================] - 4s 92ms/step - loss: 9.9060e-06 - auc: 1.0000 - val_loss: 0.3752 - val_auc: 0.9686\n",
      "Epoch 46/50\n",
      "41/41 [==============================] - 4s 91ms/step - loss: 9.0840e-06 - auc: 1.0000 - val_loss: 0.3897 - val_auc: 0.9658\n",
      "Epoch 47/50\n",
      "41/41 [==============================] - 4s 93ms/step - loss: 8.2325e-06 - auc: 1.0000 - val_loss: 0.3937 - val_auc: 0.9659\n",
      "Epoch 48/50\n",
      "41/41 [==============================] - 4s 92ms/step - loss: 7.3322e-06 - auc: 1.0000 - val_loss: 0.3946 - val_auc: 0.9659\n",
      "Epoch 49/50\n",
      "41/41 [==============================] - 4s 92ms/step - loss: 6.3875e-06 - auc: 1.0000 - val_loss: 0.4034 - val_auc: 0.9661\n",
      "Epoch 50/50\n",
      "41/41 [==============================] - 4s 90ms/step - loss: 5.8387e-06 - auc: 1.0000 - val_loss: 0.4148 - val_auc: 0.9634\n"
     ]
    }
   ],
   "source": [
    "### Find the best model using callbacks\n",
    "# Define model again\n",
    "\n",
    "inputs = keras.Input(shape = (180, 180, 3))\n",
    "x = layers.experimental.preprocessing.Rescaling(1./255)(inputs)\n",
    "x = layers.Conv2D(filters = 32, kernel_size = 3, activation = \"relu\")(x)\n",
    "x = layers.MaxPooling2D(pool_size = 2)(x)\n",
    "x = layers.Conv2D(filters = 64, kernel_size = 3, activation = \"relu\")(x)\n",
    "x = layers.MaxPooling2D(pool_size = 2)(x)\n",
    "x = layers.Conv2D(filters = 128, kernel_size = 3, activation = \"relu\")(x)\n",
    "x = layers.MaxPooling2D(pool_size = 2)(x)\n",
    "x = layers.Conv2D(filters = 256, kernel_size = 3, activation = \"relu\")(x)\n",
    "x = layers.MaxPooling2D(pool_size = 2)(x)\n",
    "x = layers.Conv2D(filters = 256, kernel_size = 3, activation = \"relu\")(x)\n",
    "x = layers.Flatten()(x)\n",
    "outputs = layers.Dense(1, activation = \"sigmoid\")(x)\n",
    "model = keras.Model(inputs = inputs, outputs = outputs)\n",
    "\n",
    "# Compile model\n",
    "\n",
    "model.compile(\n",
    "    optimizer = 'adam',\n",
    "    loss = tf.losses.BinaryCrossentropy(),\n",
    "    metrics = ['Accuracy']\n",
    ")\n",
    "\n",
    "callbacks = [\n",
    "    keras.callbacks.ModelCheckpoint(\n",
    "        filepath = \"convnet.keras\", # Save the best model as 'convnet.kears'\n",
    "        save_best_only = True,\n",
    "        monitor = \"val_loss\")\n",
    "]\n",
    "\n",
    "history_test = model.fit(\n",
    "    train_ds,\n",
    "    epochs = 50,\n",
    "    validation_data = val_ds,\n",
    "    callbacks = callbacks)"
   ]
  },
  {
   "cell_type": "code",
   "execution_count": 46,
   "metadata": {},
   "outputs": [
    {
     "data": {
      "text/html": [
       "<div>\n",
       "<style scoped>\n",
       "    .dataframe tbody tr th:only-of-type {\n",
       "        vertical-align: middle;\n",
       "    }\n",
       "\n",
       "    .dataframe tbody tr th {\n",
       "        vertical-align: top;\n",
       "    }\n",
       "\n",
       "    .dataframe thead th {\n",
       "        text-align: right;\n",
       "    }\n",
       "</style>\n",
       "<table border=\"1\" class=\"dataframe\">\n",
       "  <thead>\n",
       "    <tr style=\"text-align: right;\">\n",
       "      <th></th>\n",
       "      <th>Image_id</th>\n",
       "      <th>Label</th>\n",
       "    </tr>\n",
       "  </thead>\n",
       "  <tbody>\n",
       "    <tr>\n",
       "      <th>0</th>\n",
       "      <td>id_00exusbkgzw1b.jpg</td>\n",
       "      <td>0</td>\n",
       "    </tr>\n",
       "    <tr>\n",
       "      <th>1</th>\n",
       "      <td>id_03dqinf6w0znv.jpg</td>\n",
       "      <td>0</td>\n",
       "    </tr>\n",
       "    <tr>\n",
       "      <th>2</th>\n",
       "      <td>id_046yl0cxn3ybz.jpg</td>\n",
       "      <td>1</td>\n",
       "    </tr>\n",
       "    <tr>\n",
       "      <th>3</th>\n",
       "      <td>id_04athdtx2abyg.jpg</td>\n",
       "      <td>0</td>\n",
       "    </tr>\n",
       "    <tr>\n",
       "      <th>4</th>\n",
       "      <td>id_062aauf9e9jk0.jpg</td>\n",
       "      <td>0</td>\n",
       "    </tr>\n",
       "  </tbody>\n",
       "</table>\n",
       "</div>"
      ],
      "text/plain": [
       "               Image_id  Label\n",
       "0  id_00exusbkgzw1b.jpg      0\n",
       "1  id_03dqinf6w0znv.jpg      0\n",
       "2  id_046yl0cxn3ybz.jpg      1\n",
       "3  id_04athdtx2abyg.jpg      0\n",
       "4  id_062aauf9e9jk0.jpg      0"
      ]
     },
     "execution_count": 46,
     "metadata": {},
     "output_type": "execute_result"
    }
   ],
   "source": [
    "# Fit the best model\n",
    "\n",
    "test_model = keras.models.load_model(\"convnet.keras\") # load the best model which we defined \"convnet.keras\"\n",
    "\n",
    "predictions = test_model.predict(test_ds)\n",
    "prediction_classes = [\n",
    "    1 if prob > 0.5 else 0 for prob in np.ravel(predictions)\n",
    "]\n",
    "\n",
    "sample_sub[\"Label\"] = prediction_classes\n",
    "sample_sub.head()"
   ]
  },
  {
   "cell_type": "code",
   "execution_count": 47,
   "metadata": {},
   "outputs": [],
   "source": [
    "# Save csv file\n",
    "\n",
    "sample_sub.to_csv(\"Submission.csv\", index = False)"
   ]
  }
 ],
 "metadata": {
  "interpreter": {
   "hash": "453dee3dc3901cb9a21ed0866384fb1d6a0d6f4710a79aa791e402cd59be06a2"
  },
  "kernelspec": {
   "display_name": "Python 3.9.7 ('tf')",
   "language": "python",
   "name": "python3"
  },
  "language_info": {
   "codemirror_mode": {
    "name": "ipython",
    "version": 3
   },
   "file_extension": ".py",
   "mimetype": "text/x-python",
   "name": "python",
   "nbconvert_exporter": "python",
   "pygments_lexer": "ipython3",
   "version": "3.9.7"
  },
  "orig_nbformat": 4
 },
 "nbformat": 4,
 "nbformat_minor": 2
}
